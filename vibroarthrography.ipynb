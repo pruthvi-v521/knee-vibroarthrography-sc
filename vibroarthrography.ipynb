{
 "cells": [
  {
   "cell_type": "code",
   "execution_count": 150,
   "id": "2356c852",
   "metadata": {},
   "outputs": [],
   "source": [
    "import pandas as pd\n",
    "import numpy as np\n",
    "import matplotlib.pyplot as plt\n",
    "import seaborn as sns"
   ]
  },
  {
   "cell_type": "code",
   "execution_count": 151,
   "id": "e3e517d2",
   "metadata": {},
   "outputs": [],
   "source": [
    "df = pd.read_csv(\"vag_dataset.csv\")"
   ]
  },
  {
   "cell_type": "code",
   "execution_count": 152,
   "id": "0c96f996",
   "metadata": {},
   "outputs": [
    {
     "name": "stdout",
     "output_type": "stream",
     "text": [
      "<class 'pandas.core.frame.DataFrame'>\n",
      "RangeIndex: 2500 entries, 0 to 2499\n",
      "Data columns (total 8 columns):\n",
      " #   Column              Non-Null Count  Dtype  \n",
      "---  ------              --------------  -----  \n",
      " 0   knee_condition      2500 non-null   object \n",
      " 1   severity_level      1705 non-null   object \n",
      " 2   treatment_advised   2500 non-null   object \n",
      " 3   rms_amplitude       2500 non-null   float64\n",
      " 4   peak_frequency      2500 non-null   float64\n",
      " 5   spectral_entropy    2500 non-null   float64\n",
      " 6   zero_crossing_rate  2500 non-null   float64\n",
      " 7   mean_frequency      2500 non-null   float64\n",
      "dtypes: float64(5), object(3)\n",
      "memory usage: 156.4+ KB\n"
     ]
    }
   ],
   "source": [
    "#structure of the dataset\n",
    "df.info()\n"
   ]
  },
  {
   "cell_type": "code",
   "execution_count": 153,
   "id": "3141b18a",
   "metadata": {},
   "outputs": [
    {
     "data": {
      "text/html": [
       "<div>\n",
       "<style scoped>\n",
       "    .dataframe tbody tr th:only-of-type {\n",
       "        vertical-align: middle;\n",
       "    }\n",
       "\n",
       "    .dataframe tbody tr th {\n",
       "        vertical-align: top;\n",
       "    }\n",
       "\n",
       "    .dataframe thead th {\n",
       "        text-align: right;\n",
       "    }\n",
       "</style>\n",
       "<table border=\"1\" class=\"dataframe\">\n",
       "  <thead>\n",
       "    <tr style=\"text-align: right;\">\n",
       "      <th></th>\n",
       "      <th>knee_condition</th>\n",
       "      <th>severity_level</th>\n",
       "      <th>treatment_advised</th>\n",
       "      <th>rms_amplitude</th>\n",
       "      <th>peak_frequency</th>\n",
       "      <th>spectral_entropy</th>\n",
       "      <th>zero_crossing_rate</th>\n",
       "      <th>mean_frequency</th>\n",
       "    </tr>\n",
       "  </thead>\n",
       "  <tbody>\n",
       "    <tr>\n",
       "      <th>0</th>\n",
       "      <td>normal</td>\n",
       "      <td>NaN</td>\n",
       "      <td>No Treatment</td>\n",
       "      <td>1.051421</td>\n",
       "      <td>20.0</td>\n",
       "      <td>-1799.219746</td>\n",
       "      <td>0.001</td>\n",
       "      <td>39.864485</td>\n",
       "    </tr>\n",
       "    <tr>\n",
       "      <th>1</th>\n",
       "      <td>normal</td>\n",
       "      <td>NaN</td>\n",
       "      <td>No Treatment</td>\n",
       "      <td>1.071817</td>\n",
       "      <td>20.0</td>\n",
       "      <td>-2010.827330</td>\n",
       "      <td>0.000</td>\n",
       "      <td>40.652874</td>\n",
       "    </tr>\n",
       "    <tr>\n",
       "      <th>2</th>\n",
       "      <td>osteoarthritis</td>\n",
       "      <td>Mild</td>\n",
       "      <td>Physiotherapy</td>\n",
       "      <td>1.098748</td>\n",
       "      <td>20.0</td>\n",
       "      <td>-2172.177329</td>\n",
       "      <td>0.000</td>\n",
       "      <td>39.961072</td>\n",
       "    </tr>\n",
       "    <tr>\n",
       "      <th>3</th>\n",
       "      <td>osteoarthritis</td>\n",
       "      <td>Severe</td>\n",
       "      <td>Surgery</td>\n",
       "      <td>1.063046</td>\n",
       "      <td>20.0</td>\n",
       "      <td>-1915.991388</td>\n",
       "      <td>0.000</td>\n",
       "      <td>39.860160</td>\n",
       "    </tr>\n",
       "    <tr>\n",
       "      <th>4</th>\n",
       "      <td>ligament_injury</td>\n",
       "      <td>Severe</td>\n",
       "      <td>Surgery</td>\n",
       "      <td>1.222318</td>\n",
       "      <td>20.0</td>\n",
       "      <td>-3331.987202</td>\n",
       "      <td>0.001</td>\n",
       "      <td>44.747680</td>\n",
       "    </tr>\n",
       "  </tbody>\n",
       "</table>\n",
       "</div>"
      ],
      "text/plain": [
       "    knee_condition severity_level treatment_advised  rms_amplitude  \\\n",
       "0           normal            NaN      No Treatment       1.051421   \n",
       "1           normal            NaN      No Treatment       1.071817   \n",
       "2   osteoarthritis           Mild     Physiotherapy       1.098748   \n",
       "3   osteoarthritis         Severe           Surgery       1.063046   \n",
       "4  ligament_injury         Severe           Surgery       1.222318   \n",
       "\n",
       "   peak_frequency  spectral_entropy  zero_crossing_rate  mean_frequency  \n",
       "0            20.0      -1799.219746               0.001       39.864485  \n",
       "1            20.0      -2010.827330               0.000       40.652874  \n",
       "2            20.0      -2172.177329               0.000       39.961072  \n",
       "3            20.0      -1915.991388               0.000       39.860160  \n",
       "4            20.0      -3331.987202               0.001       44.747680  "
      ]
     },
     "execution_count": 153,
     "metadata": {},
     "output_type": "execute_result"
    }
   ],
   "source": [
    "#first few rows\n",
    "df.head()"
   ]
  },
  {
   "cell_type": "code",
   "execution_count": 154,
   "id": "548b572f",
   "metadata": {},
   "outputs": [
    {
     "name": "stdout",
     "output_type": "stream",
     "text": [
      "Number of duplicate rows: 0\n"
     ]
    }
   ],
   "source": [
    "#duplicate row check\n",
    "duplicate_rows = df[df.duplicated()]\n",
    "print(f\"Number of duplicate rows: {duplicate_rows.shape[0]}\")\n"
   ]
  },
  {
   "cell_type": "code",
   "execution_count": 155,
   "id": "0a9cb8b3",
   "metadata": {},
   "outputs": [],
   "source": [
    "df = df.drop_duplicates()"
   ]
  },
  {
   "cell_type": "code",
   "execution_count": 156,
   "id": "eac71cdc",
   "metadata": {},
   "outputs": [
    {
     "data": {
      "text/plain": [
       "knee_condition          0\n",
       "severity_level        795\n",
       "treatment_advised       0\n",
       "rms_amplitude           0\n",
       "peak_frequency          0\n",
       "spectral_entropy        0\n",
       "zero_crossing_rate      0\n",
       "mean_frequency          0\n",
       "dtype: int64"
      ]
     },
     "execution_count": 156,
     "metadata": {},
     "output_type": "execute_result"
    }
   ],
   "source": [
    "#check for missing value\n",
    "df.isnull().sum()"
   ]
  },
  {
   "cell_type": "code",
   "execution_count": 157,
   "id": "fbf63fd9",
   "metadata": {},
   "outputs": [
    {
     "data": {
      "text/html": [
       "<div>\n",
       "<style scoped>\n",
       "    .dataframe tbody tr th:only-of-type {\n",
       "        vertical-align: middle;\n",
       "    }\n",
       "\n",
       "    .dataframe tbody tr th {\n",
       "        vertical-align: top;\n",
       "    }\n",
       "\n",
       "    .dataframe thead th {\n",
       "        text-align: right;\n",
       "    }\n",
       "</style>\n",
       "<table border=\"1\" class=\"dataframe\">\n",
       "  <thead>\n",
       "    <tr style=\"text-align: right;\">\n",
       "      <th></th>\n",
       "      <th>rms_amplitude</th>\n",
       "      <th>peak_frequency</th>\n",
       "      <th>spectral_entropy</th>\n",
       "      <th>zero_crossing_rate</th>\n",
       "      <th>mean_frequency</th>\n",
       "    </tr>\n",
       "  </thead>\n",
       "  <tbody>\n",
       "    <tr>\n",
       "      <th>count</th>\n",
       "      <td>2500.000000</td>\n",
       "      <td>2500.000000</td>\n",
       "      <td>2500.000000</td>\n",
       "      <td>2500.000000</td>\n",
       "      <td>2500.000000</td>\n",
       "    </tr>\n",
       "    <tr>\n",
       "      <th>mean</th>\n",
       "      <td>1.118481</td>\n",
       "      <td>20.384000</td>\n",
       "      <td>-2412.251714</td>\n",
       "      <td>-0.000018</td>\n",
       "      <td>41.949641</td>\n",
       "    </tr>\n",
       "    <tr>\n",
       "      <th>std</th>\n",
       "      <td>0.067338</td>\n",
       "      <td>4.785573</td>\n",
       "      <td>610.620891</td>\n",
       "      <td>0.000717</td>\n",
       "      <td>2.453461</td>\n",
       "    </tr>\n",
       "    <tr>\n",
       "      <th>min</th>\n",
       "      <td>1.003640</td>\n",
       "      <td>20.000000</td>\n",
       "      <td>-3915.364528</td>\n",
       "      <td>-0.001000</td>\n",
       "      <td>37.910850</td>\n",
       "    </tr>\n",
       "    <tr>\n",
       "      <th>25%</th>\n",
       "      <td>1.065577</td>\n",
       "      <td>20.000000</td>\n",
       "      <td>-3094.827471</td>\n",
       "      <td>-0.001000</td>\n",
       "      <td>40.038446</td>\n",
       "    </tr>\n",
       "    <tr>\n",
       "      <th>50%</th>\n",
       "      <td>1.086830</td>\n",
       "      <td>20.000000</td>\n",
       "      <td>-2112.249370</td>\n",
       "      <td>0.000000</td>\n",
       "      <td>40.729064</td>\n",
       "    </tr>\n",
       "    <tr>\n",
       "      <th>75%</th>\n",
       "      <td>1.195361</td>\n",
       "      <td>20.000000</td>\n",
       "      <td>-1930.338196</td>\n",
       "      <td>0.000000</td>\n",
       "      <td>44.743906</td>\n",
       "    </tr>\n",
       "    <tr>\n",
       "      <th>max</th>\n",
       "      <td>1.264899</td>\n",
       "      <td>80.000000</td>\n",
       "      <td>-1453.671345</td>\n",
       "      <td>0.001000</td>\n",
       "      <td>47.607962</td>\n",
       "    </tr>\n",
       "  </tbody>\n",
       "</table>\n",
       "</div>"
      ],
      "text/plain": [
       "       rms_amplitude  peak_frequency  spectral_entropy  zero_crossing_rate  \\\n",
       "count    2500.000000     2500.000000       2500.000000         2500.000000   \n",
       "mean        1.118481       20.384000      -2412.251714           -0.000018   \n",
       "std         0.067338        4.785573        610.620891            0.000717   \n",
       "min         1.003640       20.000000      -3915.364528           -0.001000   \n",
       "25%         1.065577       20.000000      -3094.827471           -0.001000   \n",
       "50%         1.086830       20.000000      -2112.249370            0.000000   \n",
       "75%         1.195361       20.000000      -1930.338196            0.000000   \n",
       "max         1.264899       80.000000      -1453.671345            0.001000   \n",
       "\n",
       "       mean_frequency  \n",
       "count     2500.000000  \n",
       "mean        41.949641  \n",
       "std          2.453461  \n",
       "min         37.910850  \n",
       "25%         40.038446  \n",
       "50%         40.729064  \n",
       "75%         44.743906  \n",
       "max         47.607962  "
      ]
     },
     "execution_count": 157,
     "metadata": {},
     "output_type": "execute_result"
    }
   ],
   "source": [
    "#basic status of numerical values\n",
    "df.describe()"
   ]
  },
  {
   "cell_type": "code",
   "execution_count": 158,
   "id": "aab4f8c1",
   "metadata": {},
   "outputs": [
    {
     "name": "stdout",
     "output_type": "stream",
     "text": [
      "rms_amplitude: min = 1.0036403934841054, max = 1.264898646730383\n",
      "peak_frequency: min = 20.0, max = 80.0\n",
      "spectral_entropy: min = -3915.3645278958447, max = -1453.6713448879295\n",
      "zero_crossing_rate: min = -0.001, max = 0.001\n"
     ]
    }
   ],
   "source": [
    "#check min and max feature\n",
    "for column in ['rms_amplitude', 'peak_frequency', 'spectral_entropy', 'zero_crossing_rate']:\n",
    "    print(f\"{column}: min = {df[column].min()}, max = {df[column].max()}\")\n"
   ]
  },
  {
   "cell_type": "code",
   "execution_count": 159,
   "id": "ef5e6b86",
   "metadata": {},
   "outputs": [
    {
     "name": "stdout",
     "output_type": "stream",
     "text": [
      "['normal' 'osteoarthritis' 'ligament_injury']\n",
      "[nan 'Mild' 'Severe' 'Moderate']\n",
      "['No Treatment' 'Physiotherapy' 'Surgery']\n"
     ]
    }
   ],
   "source": [
    "#Check Unique Values in Categorical Column\n",
    "print(df['knee_condition'].unique())\n",
    "print(df['severity_level'].unique())\n",
    "print(df['treatment_advised'].unique())"
   ]
  },
  {
   "cell_type": "code",
   "execution_count": 160,
   "id": "ebed1fd2",
   "metadata": {},
   "outputs": [
    {
     "name": "stdout",
     "output_type": "stream",
     "text": [
      "knee_condition\n",
      "ligament_injury    871\n",
      "osteoarthritis     834\n",
      "normal             795\n",
      "Name: count, dtype: int64\n",
      "severity_level\n",
      "Severe      721\n",
      "Moderate    713\n",
      "Mild        271\n",
      "Name: count, dtype: int64\n",
      "treatment_advised\n",
      "Surgery          1296\n",
      "No Treatment      795\n",
      "Physiotherapy     409\n",
      "Name: count, dtype: int64\n"
     ]
    }
   ],
   "source": [
    "print(df['knee_condition'].value_counts())\n",
    "print(df['severity_level'].value_counts())\n",
    "print(df['treatment_advised'].value_counts())"
   ]
  },
  {
   "cell_type": "code",
   "execution_count": 161,
   "id": "7fee3380",
   "metadata": {},
   "outputs": [
    {
     "name": "stdout",
     "output_type": "stream",
     "text": [
      "     knee_condition severity_level\n",
      "0            normal            NaN\n",
      "1            normal            NaN\n",
      "6            normal            NaN\n",
      "9            normal            NaN\n",
      "12           normal            NaN\n",
      "...             ...            ...\n",
      "2486         normal            NaN\n",
      "2492         normal            NaN\n",
      "2494         normal            NaN\n",
      "2496         normal            NaN\n",
      "2498         normal            NaN\n",
      "\n",
      "[795 rows x 2 columns]\n"
     ]
    }
   ],
   "source": [
    "nan_severity_rows = df[df['severity_level'].isna()][['knee_condition', 'severity_level']]\n",
    "print(nan_severity_rows)"
   ]
  },
  {
   "cell_type": "code",
   "execution_count": 162,
   "id": "8456cc2f",
   "metadata": {},
   "outputs": [
    {
     "name": "stdout",
     "output_type": "stream",
     "text": [
      "Empty DataFrame\n",
      "Columns: [knee_condition, severity_level]\n",
      "Index: []\n"
     ]
    }
   ],
   "source": [
    "filtered_rows = df[df['severity_level'].isna() & (df['knee_condition'] != 'normal')]\n",
    "print(filtered_rows[['knee_condition', 'severity_level']])"
   ]
  },
  {
   "cell_type": "code",
   "execution_count": 163,
   "id": "0a72127d",
   "metadata": {},
   "outputs": [],
   "source": [
    "#Fill with \"Unknown\"\n",
    "df['severity_level'] = df['severity_level'].fillna('None')"
   ]
  },
  {
   "cell_type": "code",
   "execution_count": 164,
   "id": "a5de5436-9e35-43a1-9ab0-4d1fbd7894ba",
   "metadata": {},
   "outputs": [
    {
     "data": {
      "image/png": "[encoded data removed]",
      "text/plain": [
       "<Figure size 800x800 with 1 Axes>"
      ]
     },
     "metadata": {},
     "output_type": "display_data"
    }
   ],
   "source": [
    "import matplotlib.pyplot as plt\n",
    "\n",
    "# Count the occurrences of each knee condition\n",
    "condition_counts = df['knee_condition'].value_counts()\n",
    "\n",
    "# Create the pie chart\n",
    "plt.figure(figsize=(8, 8))\n",
    "plt.pie(condition_counts, labels=condition_counts.index, autopct='%1.1f%%', startangle=140, colors=['#ff9999','#66b3ff','#99ff99'])\n",
    "plt.title('Distribution of Knee Conditions')\n",
    "plt.axis('equal')  # Ensures the pie chart is a circle\n",
    "plt.show()"
   ]
  },
  {
   "cell_type": "code",
   "execution_count": 165,
   "id": "c0c2b565",
   "metadata": {},
   "outputs": [
    {
     "data": {
      "image/png": "[encoded data removed]",
      "text/plain": [
       "<Figure size 600x400 with 1 Axes>"
      ]
     },
     "metadata": {},
     "output_type": "display_data"
    },
    {
     "data": {
      "image/png": "[encoded data removed]",
      "text/plain": [
       "<Figure size 600x400 with 1 Axes>"
      ]
     },
     "metadata": {},
     "output_type": "display_data"
    },
    {
     "data": {
      "image/png": "[encoded data removed]",
      "text/plain": [
       "<Figure size 600x400 with 1 Axes>"
      ]
     },
     "metadata": {},
     "output_type": "display_data"
    },
    {
     "data": {
      "image/png": "[encoded data removed]",
      "text/plain": [
       "<Figure size 600x400 with 1 Axes>"
      ]
     },
     "metadata": {},
     "output_type": "display_data"
    },
    {
     "data": {
      "image/png": "[encoded data removed]",
      "text/plain": [
       "<Figure size 600x400 with 1 Axes>"
      ]
     },
     "metadata": {},
     "output_type": "display_data"
    }
   ],
   "source": [
    "numeric_features = ['rms_amplitude', 'peak_frequency', 'spectral_entropy', 'zero_crossing_rate', 'mean_frequency']\n",
    "\n",
    "for col in numeric_features:\n",
    "    plt.figure(figsize=(6,4))\n",
    "    sns.boxplot(x=df[col])\n",
    "    plt.title(f'Boxplot of {col}')\n",
    "    plt.show()"
   ]
  },
  {
   "cell_type": "code",
   "execution_count": 166,
   "id": "fa774f56",
   "metadata": {},
   "outputs": [],
   "source": [
    "#using label encoder to convert categorical values to numerical values\n",
    "from sklearn.preprocessing import LabelEncoder\n",
    "\n",
    "le_knee_condition = LabelEncoder()\n",
    "df['knee_condition_encoded'] = le_knee_condition.fit_transform(df['knee_condition'])"
   ]
  },
  {
   "cell_type": "code",
   "execution_count": 167,
   "id": "ee7b45b1",
   "metadata": {},
   "outputs": [],
   "source": [
    "le_severity_level = LabelEncoder()\n",
    "df['severity_level_encoded'] = le_severity_level.fit_transform(df['severity_level'])"
   ]
  },
  {
   "cell_type": "code",
   "execution_count": 168,
   "id": "95f328d5",
   "metadata": {},
   "outputs": [],
   "source": [
    "le_treatment_advised = LabelEncoder()\n",
    "df['treatment_advised_encoded'] = le_treatment_advised.fit_transform(df['treatment_advised'])"
   ]
  },
  {
   "cell_type": "code",
   "execution_count": 169,
   "id": "9f62ea5f",
   "metadata": {},
   "outputs": [
    {
     "name": "stdout",
     "output_type": "stream",
     "text": [
      "0       0\n",
      "1       0\n",
      "2       1\n",
      "3       2\n",
      "4       2\n",
      "       ..\n",
      "2495    2\n",
      "2496    0\n",
      "2497    2\n",
      "2498    0\n",
      "2499    2\n",
      "Name: treatment_advised_encoded, Length: 2500, dtype: int32\n"
     ]
    }
   ],
   "source": [
    "print(df['treatment_advised_encoded'])"
   ]
  },
  {
   "cell_type": "code",
   "execution_count": 170,
   "id": "c73ba89a",
   "metadata": {},
   "outputs": [
    {
     "name": "stdout",
     "output_type": "stream",
     "text": [
      "Number of outliers in rms_amplitude: 0\n",
      "Empty DataFrame\n",
      "Columns: [knee_condition, severity_level, treatment_advised, rms_amplitude, peak_frequency, spectral_entropy, zero_crossing_rate, mean_frequency, knee_condition_encoded, severity_level_encoded, treatment_advised_encoded]\n",
      "Index: []\n"
     ]
    }
   ],
   "source": [
    "#using z score to remove outliers\n",
    "# Z-scores for one column\n",
    "from scipy import stats\n",
    "\n",
    "z_scores = np.abs(stats.zscore(df[\"rms_amplitude\"]))\n",
    "\n",
    "# Boolean mask for outliers\n",
    "outlier_mask = z_scores > 3\n",
    "\n",
    "# Number of outliers\n",
    "num_outliers = outlier_mask.sum()\n",
    "\n",
    "print(f\"Number of outliers in rms_amplitude: {num_outliers}\")\n",
    "\n",
    "# Optional: see which rows are outliers\n",
    "df_outliers = df[outlier_mask]\n",
    "print(df_outliers)\n",
    "\n"
   ]
  },
  {
   "cell_type": "code",
   "execution_count": 171,
   "id": "654c9a9a",
   "metadata": {},
   "outputs": [
    {
     "name": "stdout",
     "output_type": "stream",
     "text": [
      "Outliers per feature (Z > 3):\n",
      "rms_amplitude: 0\n",
      "peak_frequency: 16\n",
      "spectral_entropy: 0\n",
      "zero_crossing_rate: 0\n",
      "mean_frequency: 0\n"
     ]
    }
   ],
   "source": [
    "from scipy import stats\n",
    "import numpy as np\n",
    "\n",
    "numeric_features = ['rms_amplitude', 'peak_frequency', 'spectral_entropy', 'zero_crossing_rate', 'mean_frequency']\n",
    "\n",
    "# Compute Z-scores for all numeric features → this will return a DataFrame!\n",
    "z_scores = np.abs(stats.zscore(df[numeric_features]))\n",
    "\n",
    "# Initialize dictionary to store outlier counts\n",
    "outlier_counts = {}\n",
    "\n",
    "# Loop through each column by name (no need to use i)\n",
    "for col in numeric_features:\n",
    "    num_outliers = (z_scores[col] > 3).sum()\n",
    "    outlier_counts[col] = num_outliers\n",
    "\n",
    "# Print outlier counts\n",
    "print(\"Outliers per feature (Z > 3):\")\n",
    "for col, count in outlier_counts.items():\n",
    "    print(f\"{col}: {count}\")\n"
   ]
  },
  {
   "cell_type": "code",
   "execution_count": 172,
   "id": "8f74b924",
   "metadata": {},
   "outputs": [
    {
     "name": "stdout",
     "output_type": "stream",
     "text": [
      "      peak_frequency\n",
      "81              80.0\n",
      "358             80.0\n",
      "399             80.0\n",
      "580             80.0\n",
      "712             80.0\n",
      "718             80.0\n",
      "1049            80.0\n",
      "1066            80.0\n",
      "1256            80.0\n",
      "1549            80.0\n",
      "1864            80.0\n",
      "2023            80.0\n",
      "2033            80.0\n",
      "2094            80.0\n",
      "2113            80.0\n",
      "2161            80.0\n"
     ]
    }
   ],
   "source": [
    "from scipy import stats\n",
    "import numpy as np\n",
    "\n",
    "# Calculate Z-scores for peak_frequency\n",
    "z_scores_peak = np.abs(stats.zscore(df['peak_frequency']))\n",
    "\n",
    "# Show rows where Z > 3 (commonly considered outliers)\n",
    "extreme_rows = df[z_scores_peak > 3]\n",
    "print(extreme_rows[['peak_frequency']])\n"
   ]
  },
  {
   "cell_type": "code",
   "execution_count": 173,
   "id": "b4c0bfe8",
   "metadata": {},
   "outputs": [],
   "source": [
    "# Compute median of valid (non-outlier) peak_frequency values\n",
    "valid_peak_freq = df[df['peak_frequency'] < 80.0]['peak_frequency']\n",
    "median_peak = valid_peak_freq.median()\n",
    "\n",
    "# Replace outliers (== 80.0) with median\n",
    "df.loc[df['peak_frequency'] == 80.0, 'peak_frequency'] = median_peak\n"
   ]
  },
  {
   "cell_type": "code",
   "execution_count": 174,
   "id": "95a61939",
   "metadata": {},
   "outputs": [
    {
     "name": "stdout",
     "output_type": "stream",
     "text": [
      "      peak_frequency\n",
      "0               20.0\n",
      "1               20.0\n",
      "2               20.0\n",
      "3               20.0\n",
      "4               20.0\n",
      "...              ...\n",
      "2495            20.0\n",
      "2496            20.0\n",
      "2497            20.0\n",
      "2498            20.0\n",
      "2499            20.0\n",
      "\n",
      "[2500 rows x 1 columns]\n"
     ]
    }
   ],
   "source": [
    " # replaced all 80.0 values with median_peak\n",
    "changed_rows = df.loc[df['peak_frequency'] == median_peak]\n",
    "\n",
    "#  checking indices\n",
    "print(changed_rows[['peak_frequency']])"
   ]
  },
  {
   "cell_type": "code",
   "execution_count": 175,
   "id": "fb861090",
   "metadata": {},
   "outputs": [
    {
     "name": "stdout",
     "output_type": "stream",
     "text": [
      "knee_condition               0\n",
      "severity_level               0\n",
      "treatment_advised            0\n",
      "rms_amplitude                0\n",
      "peak_frequency               0\n",
      "spectral_entropy             0\n",
      "zero_crossing_rate           0\n",
      "mean_frequency               0\n",
      "knee_condition_encoded       0\n",
      "severity_level_encoded       0\n",
      "treatment_advised_encoded    0\n",
      "dtype: int64\n",
      "knee_condition               0\n",
      "severity_level               0\n",
      "treatment_advised            0\n",
      "rms_amplitude                0\n",
      "peak_frequency               0\n",
      "spectral_entropy             0\n",
      "zero_crossing_rate           0\n",
      "mean_frequency               0\n",
      "knee_condition_encoded       0\n",
      "severity_level_encoded       0\n",
      "treatment_advised_encoded    0\n",
      "dtype: int64\n"
     ]
    }
   ],
   "source": [
    "# Check missing values again\n",
    "print(df.isnull().sum())\n",
    "\n",
    "# Fill missing in 'severity_level' with mode\n",
    "#mode_value = df['severity_level'].mode()[0]\n",
    "#df['severity_level'].fillna(mode_value, inplace=True)\n",
    "\n",
    "# Confirm no missing now\n",
    "print(df.isnull().sum())\n"
   ]
  },
  {
   "cell_type": "code",
   "execution_count": 176,
   "id": "00f0ede9",
   "metadata": {},
   "outputs": [
    {
     "name": "stdout",
     "output_type": "stream",
     "text": [
      "0           None\n",
      "1           None\n",
      "2           Mild\n",
      "3         Severe\n",
      "4         Severe\n",
      "          ...   \n",
      "2495    Moderate\n",
      "2496        None\n",
      "2497    Moderate\n",
      "2498        None\n",
      "2499    Moderate\n",
      "Name: severity_level, Length: 2500, dtype: object\n"
     ]
    }
   ],
   "source": [
    "print(df['severity_level'])\n"
   ]
  },
  {
   "cell_type": "code",
   "execution_count": 177,
   "id": "f3249c8c",
   "metadata": {
    "scrolled": true
   },
   "outputs": [
    {
     "data": {
      "text/html": [
       "<div>\n",
       "<style scoped>\n",
       "    .dataframe tbody tr th:only-of-type {\n",
       "        vertical-align: middle;\n",
       "    }\n",
       "\n",
       "    .dataframe tbody tr th {\n",
       "        vertical-align: top;\n",
       "    }\n",
       "\n",
       "    .dataframe thead th {\n",
       "        text-align: right;\n",
       "    }\n",
       "</style>\n",
       "<table border=\"1\" class=\"dataframe\">\n",
       "  <thead>\n",
       "    <tr style=\"text-align: right;\">\n",
       "      <th></th>\n",
       "      <th>rms_amplitude</th>\n",
       "      <th>peak_frequency</th>\n",
       "      <th>spectral_entropy</th>\n",
       "      <th>zero_crossing_rate</th>\n",
       "      <th>mean_frequency</th>\n",
       "    </tr>\n",
       "  </thead>\n",
       "  <tbody>\n",
       "    <tr>\n",
       "      <th>count</th>\n",
       "      <td>2.500000e+03</td>\n",
       "      <td>2500.0</td>\n",
       "      <td>2.500000e+03</td>\n",
       "      <td>2.500000e+03</td>\n",
       "      <td>2.500000e+03</td>\n",
       "    </tr>\n",
       "    <tr>\n",
       "      <th>mean</th>\n",
       "      <td>-1.215028e-15</td>\n",
       "      <td>0.0</td>\n",
       "      <td>5.826450e-17</td>\n",
       "      <td>5.684342e-18</td>\n",
       "      <td>2.663114e-15</td>\n",
       "    </tr>\n",
       "    <tr>\n",
       "      <th>std</th>\n",
       "      <td>1.000200e+00</td>\n",
       "      <td>0.0</td>\n",
       "      <td>1.000200e+00</td>\n",
       "      <td>1.000200e+00</td>\n",
       "      <td>1.000200e+00</td>\n",
       "    </tr>\n",
       "    <tr>\n",
       "      <th>min</th>\n",
       "      <td>-1.705760e+00</td>\n",
       "      <td>0.0</td>\n",
       "      <td>-2.462106e+00</td>\n",
       "      <td>-1.369080e+00</td>\n",
       "      <td>-1.646490e+00</td>\n",
       "    </tr>\n",
       "    <tr>\n",
       "      <th>25%</th>\n",
       "      <td>-7.857923e-01</td>\n",
       "      <td>0.0</td>\n",
       "      <td>-1.118062e+00</td>\n",
       "      <td>-1.369080e+00</td>\n",
       "      <td>-7.791348e-01</td>\n",
       "    </tr>\n",
       "    <tr>\n",
       "      <th>50%</th>\n",
       "      <td>-4.701223e-01</td>\n",
       "      <td>0.0</td>\n",
       "      <td>4.914053e-01</td>\n",
       "      <td>2.509516e-02</td>\n",
       "      <td>-4.975913e-01</td>\n",
       "    </tr>\n",
       "    <tr>\n",
       "      <th>75%</th>\n",
       "      <td>1.141926e+00</td>\n",
       "      <td>0.0</td>\n",
       "      <td>7.893767e-01</td>\n",
       "      <td>2.509516e-02</td>\n",
       "      <td>1.139135e+00</td>\n",
       "    </tr>\n",
       "    <tr>\n",
       "      <th>max</th>\n",
       "      <td>2.174795e+00</td>\n",
       "      <td>0.0</td>\n",
       "      <td>1.570159e+00</td>\n",
       "      <td>1.419271e+00</td>\n",
       "      <td>2.306722e+00</td>\n",
       "    </tr>\n",
       "  </tbody>\n",
       "</table>\n",
       "</div>"
      ],
      "text/plain": [
       "       rms_amplitude  peak_frequency  spectral_entropy  zero_crossing_rate  \\\n",
       "count   2.500000e+03          2500.0      2.500000e+03        2.500000e+03   \n",
       "mean   -1.215028e-15             0.0      5.826450e-17        5.684342e-18   \n",
       "std     1.000200e+00             0.0      1.000200e+00        1.000200e+00   \n",
       "min    -1.705760e+00             0.0     -2.462106e+00       -1.369080e+00   \n",
       "25%    -7.857923e-01             0.0     -1.118062e+00       -1.369080e+00   \n",
       "50%    -4.701223e-01             0.0      4.914053e-01        2.509516e-02   \n",
       "75%     1.141926e+00             0.0      7.893767e-01        2.509516e-02   \n",
       "max     2.174795e+00             0.0      1.570159e+00        1.419271e+00   \n",
       "\n",
       "       mean_frequency  \n",
       "count    2.500000e+03  \n",
       "mean     2.663114e-15  \n",
       "std      1.000200e+00  \n",
       "min     -1.646490e+00  \n",
       "25%     -7.791348e-01  \n",
       "50%     -4.975913e-01  \n",
       "75%      1.139135e+00  \n",
       "max      2.306722e+00  "
      ]
     },
     "execution_count": 177,
     "metadata": {},
     "output_type": "execute_result"
    }
   ],
   "source": [
    "#performing scaling so values lie in the same range\n",
    "from sklearn.preprocessing import StandardScaler\n",
    "\n",
    "# Define your numerical features\n",
    "numeric_features = ['rms_amplitude', 'peak_frequency', 'spectral_entropy', 'zero_crossing_rate', 'mean_frequency']\n",
    "\n",
    "# Initialize the scaler\n",
    "scaler = StandardScaler()\n",
    "\n",
    "# Fit the scaler to your numeric features and transform them\n",
    "df[numeric_features] = scaler.fit_transform(df[numeric_features])\n",
    "#check scaled values\n",
    "df[numeric_features].describe()\n"
   ]
  },
  {
   "cell_type": "code",
   "execution_count": 178,
   "id": "fc240479-2bd8-435c-9d65-1f70f2903b73",
   "metadata": {
    "scrolled": true
   },
   "outputs": [
    {
     "data": {
      "image/png": "[encoded data removed]",
      "text/plain": [
       "<Figure size 1000x600 with 1 Axes>"
      ]
     },
     "metadata": {},
     "output_type": "display_data"
    }
   ],
   "source": [
    "import seaborn as sns\n",
    "import matplotlib.pyplot as plt\n",
    "\n",
    "# Create the count plot for severity_level\n",
    "plt.figure(figsize=(10, 6))\n",
    "sns.countplot(x='severity_level', data=df, order=df['severity_level'].value_counts().index, palette='viridis')\n",
    "plt.title('Distribution of Severity Levels')\n",
    "plt.xlabel('Severity Level')\n",
    "plt.ylabel('Count')\n",
    "plt.show()"
   ]
  },
  {
   "cell_type": "code",
   "execution_count": 179,
   "id": "42aa2d75",
   "metadata": {},
   "outputs": [],
   "source": [
    "# Inputs: sensor features\n",
    "X = df[numeric_features]\n",
    "\n",
    "# Outputs: 3 targets\n",
    "Y = df[['knee_condition_encoded', 'severity_level_encoded', 'treatment_advised_encoded']]\n"
   ]
  },
  {
   "cell_type": "code",
   "execution_count": 180,
   "id": "7fb6528d",
   "metadata": {},
   "outputs": [],
   "source": [
    "#split data\n",
    "from sklearn.model_selection import train_test_split\n",
    "\n",
    "X_train_final, X_test_final, Y_train, Y_test = train_test_split(X, Y, test_size=0.2, random_state=42)\n",
    "\n"
   ]
  },
  {
   "cell_type": "code",
   "execution_count": 181,
   "id": "785d51d6",
   "metadata": {},
   "outputs": [
    {
     "name": "stdout",
     "output_type": "stream",
     "text": [
      "Creating enhanced features for better severity level prediction...\n",
      "Original features: 5\n",
      "Enhanced features: 12\n",
      "New features created: ['rms_mean_ratio', 'spectral_zero_ratio', 'peak_rms_ratio', 'freq_spread', 'amplitude_normalized', 'entropy_per_crossing', 'frequency_variance']\n",
      "Feature engineering completed!\n",
      "==================================================\n"
     ]
    }
   ],
   "source": [
    "# ============= FEATURE ENGINEERING SECTION =============\n",
    "print(\"Creating enhanced features for better severity level prediction...\")\n",
    "\n",
    "def create_enhanced_features(X_original):\n",
    "    \"\"\"Create engineered features specifically for VAG signal analysis\"\"\"\n",
    "    X_enhanced = X_original.copy()\n",
    "    \n",
    "    # Signal ratio features (very effective for audio/vibration signals)\n",
    "    X_enhanced['rms_mean_ratio'] = X_original['rms_amplitude'] / (X_original['mean_frequency'] + 1e-8)\n",
    "    X_enhanced['spectral_zero_ratio'] = X_original['spectral_entropy'] / (X_original['zero_crossing_rate'] + 1e-8)  \n",
    "    X_enhanced['peak_rms_ratio'] = X_original['peak_frequency'] / (X_original['rms_amplitude'] + 1e-8)\n",
    "    X_enhanced['freq_spread'] = X_original['mean_frequency'] - X_original['peak_frequency']\n",
    "    X_enhanced['amplitude_normalized'] = X_original['rms_amplitude'] / (X_original['peak_frequency'] + 1e-8)\n",
    "    \n",
    "    # Statistical features for signal analysis\n",
    "    X_enhanced['entropy_per_crossing'] = X_original['spectral_entropy'] / (X_original['zero_crossing_rate'] + 1e-8)\n",
    "    X_enhanced['frequency_variance'] = (X_original['mean_frequency'] - X_original['peak_frequency']) ** 2\n",
    "    \n",
    "    return X_enhanced\n",
    "\n",
    "# Apply feature engineering to training and test sets\n",
    "X_train_final_enhanced = create_enhanced_features(X_train_final)\n",
    "X_test_final_enhanced = create_enhanced_features(X_test_final)\n",
    "\n",
    "print(f\"Original features: {X_train_final.shape[1]}\")\n",
    "print(f\"Enhanced features: {X_train_final_enhanced.shape[1]}\")\n",
    "print(\"New features created:\", list(X_train_final_enhanced.columns[X_train_final.shape[1]:]))\n",
    "\n",
    "# Scale the enhanced features\n",
    "from sklearn.preprocessing import StandardScaler\n",
    "scaler = StandardScaler()\n",
    "X_train_final_scaled = scaler.fit_transform(X_train_final_enhanced)\n",
    "X_test_final_scaled = scaler.transform(X_test_final_enhanced)\n",
    "\n",
    "# Convert back to DataFrame for easier use (optional but recommended)\n",
    "X_train_final_final = pd.DataFrame(X_train_final_scaled, columns=X_train_final_enhanced.columns)\n",
    "X_test_final_final = pd.DataFrame(X_test_final_scaled, columns=X_test_final_enhanced.columns)\n",
    "\n",
    "print(\"Feature engineering completed!\")\n",
    "print(\"=\" * 50)\n"
   ]
  },
  {
   "cell_type": "code",
   "execution_count": 182,
   "id": "aa76cc09",
   "metadata": {},
   "outputs": [
    {
     "name": "stdout",
     "output_type": "stream",
     "text": [
      "Requirement already satisfied: xgboost in c:\\users\\ankit\\anaconda3\\lib\\site-packages (3.0.5)\n",
      "Requirement already satisfied: numpy in c:\\users\\ankit\\anaconda3\\lib\\site-packages (from xgboost) (1.24.3)\n",
      "Requirement already satisfied: scipy in c:\\users\\ankit\\anaconda3\\lib\\site-packages (from xgboost) (1.11.1)\n"
     ]
    }
   ],
   "source": [
    "!pip install xgboost"
   ]
  },
  {
   "cell_type": "code",
   "execution_count": 183,
   "id": "7af7c773",
   "metadata": {},
   "outputs": [
    {
     "name": "stdout",
     "output_type": "stream",
     "text": [
      "Training XGBoost for severity level prediction...\n",
      "Training XGBoost model...\n"
     ]
    },
    {
     "name": "stderr",
     "output_type": "stream",
     "text": [
      "c:\\Users\\ankit\\anaconda3\\Lib\\site-packages\\xgboost\\training.py:183: UserWarning: [20:46:58] WARNING: C:\\actions-runner\\_work\\xgboost\\xgboost\\src\\learner.cc:738: \n",
      "Parameters: { \"scale_pos_weight\" } are not used.\n",
      "\n",
      "  bst.update(dtrain, iteration=i, fobj=obj)\n"
     ]
    },
    {
     "name": "stdout",
     "output_type": "stream",
     "text": [
      "XGBoost Severity Level Accuracy: 0.492\n",
      "XGBoost Classification Report:\n",
      "              precision    recall  f1-score   support\n",
      "\n",
      "           0       0.30      0.26      0.28        47\n",
      "           1       0.31      0.35      0.33       133\n",
      "           2       0.76      0.83      0.79       161\n",
      "           3       0.40      0.35      0.37       159\n",
      "\n",
      "    accuracy                           0.49       500\n",
      "   macro avg       0.44      0.44      0.44       500\n",
      "weighted avg       0.48      0.49      0.49       500\n",
      "\n",
      "\n",
      "Top 10 Most Important Features:\n",
      "              feature  importance\n",
      "2    spectral_entropy    0.294074\n",
      "0       rms_amplitude    0.287774\n",
      "4      mean_frequency    0.235003\n",
      "3  zero_crossing_rate    0.183149\n",
      "1      peak_frequency    0.000000\n"
     ]
    }
   ],
   "source": [
    "# ============= XGBOOST IMPLEMENTATION =============\n",
    "print(\"Training XGBoost for severity level prediction...\")\n",
    "\n",
    "# Install XGBoost if not already installed\n",
    "# !pip install xgboost\n",
    "\n",
    "import xgboost as xgb\n",
    "from sklearn.metrics import accuracy_score, classification_report\n",
    "\n",
    "# XGBoost specifically for severity level (best parameters for medical data)\n",
    "xgb_severity = xgb.XGBClassifier(\n",
    "    n_estimators=500,           # More trees for better performance\n",
    "    max_depth=6,               # Prevent overfitting\n",
    "    learning_rate=0.1,         # Learning rate\n",
    "    subsample=0.8,             # Prevent overfitting\n",
    "    colsample_bytree=0.8,      # Use 80% of features per tree\n",
    "    scale_pos_weight=3,        # Handle class imbalance (adjust based on your data)\n",
    "    random_state=42,\n",
    "    eval_metric='mlogloss'     # For multiclass classification\n",
    ")\n",
    "\n",
    "# Train XGBoost on severity level specifically\n",
    "print(\"Training XGBoost model...\")\n",
    "xgb_severity.fit(X_train_final, Y_train['severity_level_encoded'])\n",
    "\n",
    "# Predict\n",
    "y_pred_xgb = xgb_severity.predict(X_test_final)\n",
    "\n",
    "# Evaluate\n",
    "accuracy_xgb = accuracy_score(Y_test['severity_level_encoded'], y_pred_xgb)\n",
    "print(f\"XGBoost Severity Level Accuracy: {accuracy_xgb:.3f}\")\n",
    "print(\"XGBoost Classification Report:\")\n",
    "print(classification_report(Y_test['severity_level_encoded'], y_pred_xgb))\n",
    "\n",
    "# Feature importance (XGBoost provides this)\n",
    "feature_names = X_train_final.columns\n",
    "importances = xgb_severity.feature_importances_\n",
    "feature_importance = pd.DataFrame({\n",
    "    'feature': feature_names,\n",
    "    'importance': importances\n",
    "}).sort_values('importance', ascending=False)\n",
    "\n",
    "print(\"\\nTop 10 Most Important Features:\")\n",
    "print(feature_importance.head(10))\n"
   ]
  },
  {
   "cell_type": "code",
   "execution_count": 184,
   "id": "b43e878e",
   "metadata": {},
   "outputs": [
    {
     "name": "stdout",
     "output_type": "stream",
     "text": [
      "Creating Ensemble Model - Combining all trained models...\n",
      "Training Ensemble Model: Random Forest + XGBoost + SVM\n"
     ]
    },
    {
     "name": "stderr",
     "output_type": "stream",
     "text": [
      "c:\\Users\\ankit\\anaconda3\\Lib\\site-packages\\xgboost\\training.py:183: UserWarning: [20:47:04] WARNING: C:\\actions-runner\\_work\\xgboost\\xgboost\\src\\learner.cc:738: \n",
      "Parameters: { \"scale_pos_weight\" } are not used.\n",
      "\n",
      "  bst.update(dtrain, iteration=i, fobj=obj)\n"
     ]
    },
    {
     "name": "stdout",
     "output_type": "stream",
     "text": [
      "\n",
      "Ensemble Accuracy: 0.524\n",
      "\n",
      "Ensemble Classification Report:\n",
      "              precision    recall  f1-score   support\n",
      "\n",
      "           0       0.23      0.23      0.23        47\n",
      "           1       0.36      0.38      0.37       133\n",
      "           2       0.76      0.91      0.83       161\n",
      "           3       0.44      0.35      0.39       159\n",
      "\n",
      "    accuracy                           0.52       500\n",
      "   macro avg       0.45      0.47      0.46       500\n",
      "weighted avg       0.50      0.52      0.51       500\n",
      "\n"
     ]
    }
   ],
   "source": [
    "# ============= ENSEMBLE METHODS - VOTING CLASSIFIER =============\n",
    "print(\"Creating Ensemble Model - Combining all trained models...\")\n",
    "\n",
    "from sklearn.ensemble import VotingClassifier\n",
    "from sklearn.metrics import accuracy_score, classification_report, confusion_matrix\n",
    "import pandas as pd\n",
    "\n",
    "# Create individual models for ensemble (retrain with same parameters)\n",
    "rf_for_ensemble = RandomForestClassifier(\n",
    "    n_estimators=1000,\n",
    "    max_depth=15,\n",
    "    min_samples_split=5,\n",
    "    min_samples_leaf=2,\n",
    "    class_weight='balanced',\n",
    "    random_state=42\n",
    ")\n",
    "\n",
    "# XGBoost for ensemble (use the same parameters)\n",
    "try:\n",
    "    import xgboost as xgb\n",
    "    xgb_for_ensemble = xgb.XGBClassifier(\n",
    "        n_estimators=500,\n",
    "        max_depth=6,\n",
    "        learning_rate=0.1,\n",
    "        scale_pos_weight=3,\n",
    "        random_state=42\n",
    "    )\n",
    "    has_xgb = True\n",
    "except ImportError:\n",
    "    # Use LightGBM if XGBoost not available\n",
    "    import lightgbm as lgb\n",
    "    lgb_for_ensemble = lgb.LGBMClassifier(\n",
    "        n_estimators=500,\n",
    "        max_depth=6,\n",
    "        class_weight='balanced',\n",
    "        random_state=42,\n",
    "        verbose=-1\n",
    "    )\n",
    "    has_xgb = False\n",
    "\n",
    "# SVM for ensemble\n",
    "from sklearn.svm import SVC\n",
    "svm_for_ensemble = SVC(\n",
    "    probability=True,  # IMPORTANT: needed for voting='soft'\n",
    "    class_weight='balanced',\n",
    "    random_state=42\n",
    ")\n",
    "\n",
    "# Create Voting Classifier ensemble\n",
    "if has_xgb:\n",
    "    ensemble_model = VotingClassifier([\n",
    "        ('rf', rf_for_ensemble),\n",
    "        ('xgb', xgb_for_ensemble),\n",
    "        ('svm', svm_for_ensemble)\n",
    "    ], voting='soft')  # 'soft' uses prediction probabilities\n",
    "    model_names = \"Random Forest + XGBoost + SVM\"\n",
    "else:\n",
    "    ensemble_model = VotingClassifier([\n",
    "        ('rf', rf_for_ensemble),\n",
    "        ('lgb', lgb_for_ensemble), \n",
    "        ('svm', svm_for_ensemble)\n",
    "    ], voting='soft')\n",
    "    model_names = \"Random Forest + LightGBM + SVM\"\n",
    "\n",
    "# Train the ensemble\n",
    "print(f\"Training Ensemble Model: {model_names}\")\n",
    "ensemble_model.fit(X_train_final, Y_train['severity_level_encoded'])\n",
    "\n",
    "# Predict with ensemble\n",
    "y_pred_ensemble = ensemble_model.predict(X_test_final)\n",
    "\n",
    "# Evaluate ensemble performance\n",
    "accuracy_ensemble = accuracy_score(Y_test['severity_level_encoded'], y_pred_ensemble)\n",
    "print(f\"\\nEnsemble Accuracy: {accuracy_ensemble:.3f}\")\n",
    "print(\"\\nEnsemble Classification Report:\")\n",
    "print(classification_report(Y_test['severity_level_encoded'], y_pred_ensemble))\n"
   ]
  },
  {
   "cell_type": "code",
   "execution_count": 185,
   "id": "91290089",
   "metadata": {},
   "outputs": [
    {
     "name": "stdout",
     "output_type": "stream",
     "text": [
      "Accuracy for knee_condition_encoded: 0.87\n",
      "Accuracy for severity_level_encoded: 0.51\n",
      "Accuracy for treatment_advised_encoded: 0.74\n"
     ]
    }
   ],
   "source": [
    "from sklearn.neighbors import KNeighborsClassifier\n",
    "from sklearn.multioutput import MultiOutputClassifier\n",
    "from sklearn.metrics import accuracy_score\n",
    "\n",
    "# Wrap KNN for multi-output\n",
    "knn = KNeighborsClassifier(n_neighbors=5)\n",
    "multi_knn = MultiOutputClassifier(knn)\n",
    "\n",
    "# Train\n",
    "multi_knn.fit(X_train_final, Y_train)\n",
    "\n",
    "# Predict\n",
    "Y_pred = multi_knn.predict(X_test_final)\n",
    "\n",
    "# Evaluate accuracy per output\n",
    "for i, col in enumerate(Y.columns):\n",
    "    acc = accuracy_score(Y_test.iloc[:, i], Y_pred[:, i])\n",
    "    print(f\"Accuracy for {col}: {acc:.2f}\")"
   ]
  },
  {
   "cell_type": "code",
   "execution_count": 186,
   "id": "d16c5716",
   "metadata": {},
   "outputs": [
    {
     "name": "stdout",
     "output_type": "stream",
     "text": [
      "Accuracy for knee_condition_encoded: 0.88\n",
      "Accuracy for severity_level_encoded: 0.53\n",
      "Accuracy for treatment_advised_encoded: 0.76\n"
     ]
    }
   ],
   "source": [
    "from sklearn.svm import SVC\n",
    "from sklearn.multioutput import MultiOutputClassifier\n",
    "\n",
    "# Wrap SVM\n",
    "svm = SVC(\n",
    "    kernel='rbf', \n",
    "    C=10, \n",
    "    class_weight='balanced',  # Add this line\n",
    "    random_state=42\n",
    ")\n",
    "multi_svm = MultiOutputClassifier(svm)\n",
    "\n",
    "# Train\n",
    "multi_svm.fit(X_train_final, Y_train)\n",
    "\n",
    "# Predict\n",
    "Y_pred_svm = multi_svm.predict(X_test_final)\n",
    "\n",
    "# Evaluate accuracy per output\n",
    "for i, col in enumerate(Y.columns):\n",
    "    acc = accuracy_score(Y_test.iloc[:, i], Y_pred_svm[:, i])\n",
    "    print(f\"Accuracy for {col}: {acc:.2f}\")\n"
   ]
  },
  {
   "cell_type": "code",
   "execution_count": 187,
   "id": "f370eb31",
   "metadata": {},
   "outputs": [
    {
     "name": "stdout",
     "output_type": "stream",
     "text": [
      "SVM Accuracy: 0.876\n",
      "              precision    recall  f1-score   support\n",
      "\n",
      "           0       1.00      1.00      1.00       183\n",
      "           1       0.83      0.78      0.80       161\n",
      "           2       0.78      0.83      0.81       156\n",
      "\n",
      "    accuracy                           0.88       500\n",
      "   macro avg       0.87      0.87      0.87       500\n",
      "weighted avg       0.88      0.88      0.88       500\n",
      "\n"
     ]
    }
   ],
   "source": [
    "from sklearn.metrics import classification_report\n",
    "y = Y[\"knee_condition_encoded\"]  # or severity_level_encoded / treatment_advised_encoded\n",
    "\n",
    "X_train_final, X_test_final, y_train, y_test = train_test_split(X, y, test_size=0.2, random_state=42)\n",
    "\n",
    "svm = SVC(kernel='linear', random_state=42)\n",
    "svm.fit(X_train_final, y_train)\n",
    "\n",
    "y_pred_svm = svm.predict(X_test_final)\n",
    "\n",
    "print(\"SVM Accuracy:\", accuracy_score(y_test, y_pred_svm))\n",
    "print(classification_report(y_test, y_pred_svm))\n"
   ]
  },
  {
   "cell_type": "code",
   "execution_count": 188,
   "id": "5b5bfae1",
   "metadata": {},
   "outputs": [
    {
     "name": "stdout",
     "output_type": "stream",
     "text": [
      "Creating Ensemble Model - Combining all trained models...\n",
      "Training Ensemble Model: Random Forest + XGBoost + SVM\n"
     ]
    },
    {
     "name": "stderr",
     "output_type": "stream",
     "text": [
      "c:\\Users\\ankit\\anaconda3\\Lib\\site-packages\\xgboost\\training.py:183: UserWarning: [20:47:12] WARNING: C:\\actions-runner\\_work\\xgboost\\xgboost\\src\\learner.cc:738: \n",
      "Parameters: { \"scale_pos_weight\" } are not used.\n",
      "\n",
      "  bst.update(dtrain, iteration=i, fobj=obj)\n"
     ]
    },
    {
     "name": "stdout",
     "output_type": "stream",
     "text": [
      "\n",
      "Ensemble Accuracy: 0.524\n",
      "\n",
      "Ensemble Classification Report:\n",
      "              precision    recall  f1-score   support\n",
      "\n",
      "           0       0.23      0.23      0.23        47\n",
      "           1       0.36      0.38      0.37       133\n",
      "           2       0.76      0.91      0.83       161\n",
      "           3       0.44      0.35      0.39       159\n",
      "\n",
      "    accuracy                           0.52       500\n",
      "   macro avg       0.45      0.47      0.46       500\n",
      "weighted avg       0.50      0.52      0.51       500\n",
      "\n"
     ]
    }
   ],
   "source": [
    "# ============= ENSEMBLE METHODS - VOTING CLASSIFIER =============\n",
    "print(\"Creating Ensemble Model - Combining all trained models...\")\n",
    "\n",
    "from sklearn.ensemble import VotingClassifier\n",
    "from sklearn.metrics import accuracy_score, classification_report, confusion_matrix\n",
    "import pandas as pd\n",
    "\n",
    "# Create individual models for ensemble (retrain with same parameters)\n",
    "rf_for_ensemble = RandomForestClassifier(\n",
    "    n_estimators=1000,\n",
    "    max_depth=15,\n",
    "    min_samples_split=5,\n",
    "    min_samples_leaf=2,\n",
    "    class_weight='balanced',\n",
    "    random_state=42\n",
    ")\n",
    "\n",
    "# XGBoost for ensemble (use the same parameters)\n",
    "try:\n",
    "    import xgboost as xgb\n",
    "    xgb_for_ensemble = xgb.XGBClassifier(\n",
    "        n_estimators=500,\n",
    "        max_depth=6,\n",
    "        learning_rate=0.1,\n",
    "        scale_pos_weight=3,\n",
    "        random_state=42\n",
    "    )\n",
    "    has_xgb = True\n",
    "except ImportError:\n",
    "    # Use LightGBM if XGBoost not available\n",
    "    import lightgbm as lgb\n",
    "    lgb_for_ensemble = lgb.LGBMClassifier(\n",
    "        n_estimators=500,\n",
    "        max_depth=6,\n",
    "        class_weight='balanced',\n",
    "        random_state=42,\n",
    "        verbose=-1\n",
    "    )\n",
    "    has_xgb = False\n",
    "\n",
    "# SVM for ensemble\n",
    "from sklearn.svm import SVC\n",
    "svm_for_ensemble = SVC(\n",
    "    probability=True,  # IMPORTANT: needed for voting='soft'\n",
    "    class_weight='balanced',\n",
    "    random_state=42\n",
    ")\n",
    "\n",
    "# Create Voting Classifier ensemble\n",
    "if has_xgb:\n",
    "    ensemble_model = VotingClassifier([\n",
    "        ('rf', rf_for_ensemble),\n",
    "        ('xgb', xgb_for_ensemble),\n",
    "        ('svm', svm_for_ensemble)\n",
    "    ], voting='soft')  # 'soft' uses prediction probabilities\n",
    "    model_names = \"Random Forest + XGBoost + SVM\"\n",
    "else:\n",
    "    ensemble_model = VotingClassifier([\n",
    "        ('rf', rf_for_ensemble),\n",
    "        ('lgb', lgb_for_ensemble), \n",
    "        ('svm', svm_for_ensemble)\n",
    "    ], voting='soft')\n",
    "    model_names = \"Random Forest + LightGBM + SVM\"\n",
    "\n",
    "# Train the ensemble\n",
    "print(f\"Training Ensemble Model: {model_names}\")\n",
    "ensemble_model.fit(X_train_final, Y_train['severity_level_encoded'])\n",
    "\n",
    "# Predict with ensemble\n",
    "y_pred_ensemble = ensemble_model.predict(X_test_final)\n",
    "\n",
    "# Evaluate ensemble performance\n",
    "accuracy_ensemble = accuracy_score(Y_test['severity_level_encoded'], y_pred_ensemble)\n",
    "print(f\"\\nEnsemble Accuracy: {accuracy_ensemble:.3f}\")\n",
    "print(\"\\nEnsemble Classification Report:\")\n",
    "print(classification_report(Y_test['severity_level_encoded'], y_pred_ensemble))\n"
   ]
  },
  {
   "cell_type": "code",
   "execution_count": 189,
   "id": "46e30845",
   "metadata": {},
   "outputs": [
    {
     "name": "stdout",
     "output_type": "stream",
     "text": [
      "Random Forest - Accuracy for knee_condition_encoded: 0.87\n",
      "Random Forest - Accuracy for severity_level_encoded: 0.52\n",
      "Random Forest - Accuracy for treatment_advised_encoded: 0.77\n",
      "\n",
      "Feature importances for predicting 'knee_condition_encoded':\n",
      "spectral_entropy: 0.378\n",
      "mean_frequency: 0.329\n",
      "rms_amplitude: 0.280\n",
      "zero_crossing_rate: 0.012\n",
      "peak_frequency: 0.000\n"
     ]
    },
    {
     "data": {
      "image/png": "[encoded data removed]",
      "text/plain": [
       "<Figure size 800x400 with 1 Axes>"
      ]
     },
     "metadata": {},
     "output_type": "display_data"
    },
    {
     "name": "stdout",
     "output_type": "stream",
     "text": [
      "\n",
      "Feature importances for predicting 'severity_level_encoded':\n",
      "rms_amplitude: 0.337\n",
      "mean_frequency: 0.315\n",
      "spectral_entropy: 0.311\n",
      "zero_crossing_rate: 0.036\n",
      "peak_frequency: 0.000\n"
     ]
    },
    {
     "data": {
      "image/png": "[encoded data removed]",
      "text/plain": [
       "<Figure size 800x400 with 1 Axes>"
      ]
     },
     "metadata": {},
     "output_type": "display_data"
    },
    {
     "name": "stdout",
     "output_type": "stream",
     "text": [
      "\n",
      "Feature importances for predicting 'treatment_advised_encoded':\n",
      "spectral_entropy: 0.330\n",
      "mean_frequency: 0.328\n",
      "rms_amplitude: 0.317\n",
      "zero_crossing_rate: 0.025\n",
      "peak_frequency: 0.000\n"
     ]
    },
    {
     "data": {
      "image/png": "[encoded data removed]",
      "text/plain": [
       "<Figure size 800x400 with 1 Axes>"
      ]
     },
     "metadata": {},
     "output_type": "display_data"
    }
   ],
   "source": [
    "#identifying future importance using random forest \n",
    "#Import libraries\n",
    "from sklearn.ensemble import RandomForestClassifier\n",
    "from sklearn.multioutput import MultiOutputClassifier\n",
    "from sklearn.metrics import accuracy_score\n",
    "import matplotlib.pyplot as plt\n",
    "import numpy as np\n",
    "\n",
    "# Define inputs and outputs\n",
    "X = df[numeric_features]\n",
    "Y = df[['knee_condition_encoded', 'severity_level_encoded', 'treatment_advised_encoded']]\n",
    "\n",
    "# Train/test split\n",
    "from sklearn.model_selection import train_test_split\n",
    "\n",
    "X_train_final, X_test_final, Y_train, Y_test = train_test_split(X, Y, test_size=0.2, random_state=42)\n",
    "\n",
    "# Build Random Forest model\n",
    "rf = RandomForestClassifier(\n",
    "    n_estimators=200, \n",
    "    max_depth=20, \n",
    "    class_weight='balanced',  # Add this line\n",
    "    random_state=42\n",
    ")\n",
    "multi_rf = MultiOutputClassifier(rf)\n",
    "\n",
    "# Train\n",
    "multi_rf.fit(X_train_final, Y_train)\n",
    "\n",
    "# Predict\n",
    "Y_pred_rf = multi_rf.predict(X_test_final)\n",
    "\n",
    "# Evaluate accuracy per output\n",
    "for i, col in enumerate(Y.columns):\n",
    "    acc = accuracy_score(Y_test.iloc[:, i], Y_pred_rf[:, i])\n",
    "    print(f\"Random Forest - Accuracy for {col}: {acc:.2f}\")\n",
    "\n",
    "# ---- Feature Importance ----\n",
    "# For each output, print feature importance\n",
    "for i, estimator in enumerate(multi_rf.estimators_):\n",
    "    importances = estimator.feature_importances_\n",
    "    indices = np.argsort(importances)[::-1]\n",
    "    feature_names = X.columns\n",
    "\n",
    "    print(f\"\\nFeature importances for predicting '{Y.columns[i]}':\")\n",
    "    for f in range(len(feature_names)):\n",
    "        print(f\"{feature_names[indices[f]]}: {importances[indices[f]]:.3f}\")\n",
    "\n",
    "    # Optional: Plot feature importances\n",
    "    plt.figure(figsize=(8,4))\n",
    "    plt.title(f\"Feature Importances for '{Y.columns[i]}'\")\n",
    "    plt.bar(range(len(feature_names)), importances[indices], align=\"center\")\n",
    "    plt.xticks(range(len(feature_names)), feature_names[indices], rotation=45)\n",
    "    plt.tight_layout()\n",
    "    plt.show()\n"
   ]
  },
  {
   "cell_type": "code",
   "execution_count": 190,
   "id": "2036649e",
   "metadata": {},
   "outputs": [
    {
     "name": "stdout",
     "output_type": "stream",
     "text": [
      "Creating Ensemble Model - Combining all trained models...\n",
      "Training Ensemble Model: Random Forest + XGBoost + SVM\n"
     ]
    },
    {
     "name": "stderr",
     "output_type": "stream",
     "text": [
      "c:\\Users\\ankit\\anaconda3\\Lib\\site-packages\\xgboost\\training.py:183: UserWarning: [20:47:23] WARNING: C:\\actions-runner\\_work\\xgboost\\xgboost\\src\\learner.cc:738: \n",
      "Parameters: { \"scale_pos_weight\" } are not used.\n",
      "\n",
      "  bst.update(dtrain, iteration=i, fobj=obj)\n"
     ]
    },
    {
     "name": "stdout",
     "output_type": "stream",
     "text": [
      "\n",
      "Ensemble Accuracy: 0.524\n",
      "\n",
      "Ensemble Classification Report:\n",
      "              precision    recall  f1-score   support\n",
      "\n",
      "           0       0.23      0.23      0.23        47\n",
      "           1       0.36      0.38      0.37       133\n",
      "           2       0.76      0.91      0.83       161\n",
      "           3       0.44      0.35      0.39       159\n",
      "\n",
      "    accuracy                           0.52       500\n",
      "   macro avg       0.45      0.47      0.46       500\n",
      "weighted avg       0.50      0.52      0.51       500\n",
      "\n"
     ]
    }
   ],
   "source": [
    "# ============= ENSEMBLE METHODS - VOTING CLASSIFIER =============\n",
    "print(\"Creating Ensemble Model - Combining all trained models...\")\n",
    "\n",
    "from sklearn.ensemble import VotingClassifier\n",
    "from sklearn.metrics import accuracy_score, classification_report, confusion_matrix\n",
    "import pandas as pd\n",
    "\n",
    "# Create individual models for ensemble (retrain with same parameters)\n",
    "rf_for_ensemble = RandomForestClassifier(\n",
    "    n_estimators=1000,\n",
    "    max_depth=15,\n",
    "    min_samples_split=5,\n",
    "    min_samples_leaf=2,\n",
    "    class_weight='balanced',\n",
    "    random_state=42\n",
    ")\n",
    "\n",
    "# XGBoost for ensemble (use the same parameters)\n",
    "try:\n",
    "    import xgboost as xgb\n",
    "    xgb_for_ensemble = xgb.XGBClassifier(\n",
    "        n_estimators=500,\n",
    "        max_depth=6,\n",
    "        learning_rate=0.1,\n",
    "        scale_pos_weight=3,\n",
    "        random_state=42\n",
    "    )\n",
    "    has_xgb = True\n",
    "except ImportError:\n",
    "    # Use LightGBM if XGBoost not available\n",
    "    import lightgbm as lgb\n",
    "    lgb_for_ensemble = lgb.LGBMClassifier(\n",
    "        n_estimators=500,\n",
    "        max_depth=6,\n",
    "        class_weight='balanced',\n",
    "        random_state=42,\n",
    "        verbose=-1\n",
    "    )\n",
    "    has_xgb = False\n",
    "\n",
    "# SVM for ensemble\n",
    "from sklearn.svm import SVC\n",
    "svm_for_ensemble = SVC(\n",
    "    probability=True,  # IMPORTANT: needed for voting='soft'\n",
    "    class_weight='balanced',\n",
    "    random_state=42\n",
    ")\n",
    "\n",
    "# Create Voting Classifier ensemble\n",
    "if has_xgb:\n",
    "    ensemble_model = VotingClassifier([\n",
    "        ('rf', rf_for_ensemble),\n",
    "        ('xgb', xgb_for_ensemble),\n",
    "        ('svm', svm_for_ensemble)\n",
    "    ], voting='soft')  # 'soft' uses prediction probabilities\n",
    "    model_names = \"Random Forest + XGBoost + SVM\"\n",
    "else:\n",
    "    ensemble_model = VotingClassifier([\n",
    "        ('rf', rf_for_ensemble),\n",
    "        ('lgb', lgb_for_ensemble), \n",
    "        ('svm', svm_for_ensemble)\n",
    "    ], voting='soft')\n",
    "    model_names = \"Random Forest + LightGBM + SVM\"\n",
    "\n",
    "# Train the ensemble\n",
    "print(f\"Training Ensemble Model: {model_names}\")\n",
    "ensemble_model.fit(X_train_final, Y_train['severity_level_encoded'])\n",
    "\n",
    "# Predict with ensemble\n",
    "y_pred_ensemble = ensemble_model.predict(X_test_final)\n",
    "\n",
    "# Evaluate ensemble performance\n",
    "accuracy_ensemble = accuracy_score(Y_test['severity_level_encoded'], y_pred_ensemble)\n",
    "print(f\"\\nEnsemble Accuracy: {accuracy_ensemble:.3f}\")\n",
    "print(\"\\nEnsemble Classification Report:\")\n",
    "print(classification_report(Y_test['severity_level_encoded'], y_pred_ensemble))\n"
   ]
  },
  {
   "cell_type": "code",
   "execution_count": 191,
   "id": "f959903f",
   "metadata": {},
   "outputs": [
    {
     "name": "stdout",
     "output_type": "stream",
     "text": [
      "Creating Advanced Stacking Ensemble...\n",
      "Training Stacking Ensemble...\n"
     ]
    },
    {
     "name": "stderr",
     "output_type": "stream",
     "text": [
      "c:\\Users\\ankit\\anaconda3\\Lib\\site-packages\\xgboost\\training.py:183: UserWarning: [20:47:30] WARNING: C:\\actions-runner\\_work\\xgboost\\xgboost\\src\\learner.cc:738: \n",
      "Parameters: { \"scale_pos_weight\" } are not used.\n",
      "\n",
      "  bst.update(dtrain, iteration=i, fobj=obj)\n",
      "c:\\Users\\ankit\\anaconda3\\Lib\\site-packages\\xgboost\\training.py:183: UserWarning: [20:47:51] WARNING: C:\\actions-runner\\_work\\xgboost\\xgboost\\src\\learner.cc:738: \n",
      "Parameters: { \"scale_pos_weight\" } are not used.\n",
      "\n",
      "  bst.update(dtrain, iteration=i, fobj=obj)\n",
      "c:\\Users\\ankit\\anaconda3\\Lib\\site-packages\\xgboost\\training.py:183: UserWarning: [20:47:51] WARNING: C:\\actions-runner\\_work\\xgboost\\xgboost\\src\\learner.cc:738: \n",
      "Parameters: { \"scale_pos_weight\" } are not used.\n",
      "\n",
      "  bst.update(dtrain, iteration=i, fobj=obj)\n",
      "c:\\Users\\ankit\\anaconda3\\Lib\\site-packages\\xgboost\\training.py:183: UserWarning: [20:47:52] WARNING: C:\\actions-runner\\_work\\xgboost\\xgboost\\src\\learner.cc:738: \n",
      "Parameters: { \"scale_pos_weight\" } are not used.\n",
      "\n",
      "  bst.update(dtrain, iteration=i, fobj=obj)\n",
      "c:\\Users\\ankit\\anaconda3\\Lib\\site-packages\\xgboost\\training.py:183: UserWarning: [20:47:52] WARNING: C:\\actions-runner\\_work\\xgboost\\xgboost\\src\\learner.cc:738: \n",
      "Parameters: { \"scale_pos_weight\" } are not used.\n",
      "\n",
      "  bst.update(dtrain, iteration=i, fobj=obj)\n",
      "c:\\Users\\ankit\\anaconda3\\Lib\\site-packages\\xgboost\\training.py:183: UserWarning: [20:47:53] WARNING: C:\\actions-runner\\_work\\xgboost\\xgboost\\src\\learner.cc:738: \n",
      "Parameters: { \"scale_pos_weight\" } are not used.\n",
      "\n",
      "  bst.update(dtrain, iteration=i, fobj=obj)\n",
      "c:\\Users\\ankit\\anaconda3\\Lib\\site-packages\\sklearn\\linear_model\\_logistic.py:460: ConvergenceWarning: lbfgs failed to converge (status=1):\n",
      "STOP: TOTAL NO. of ITERATIONS REACHED LIMIT.\n",
      "\n",
      "Increase the number of iterations (max_iter) or scale the data as shown in:\n",
      "    https://scikit-learn.org/stable/modules/preprocessing.html\n",
      "Please also refer to the documentation for alternative solver options:\n",
      "    https://scikit-learn.org/stable/modules/linear_model.html#logistic-regression\n",
      "  n_iter_i = _check_optimize_result(\n"
     ]
    },
    {
     "name": "stdout",
     "output_type": "stream",
     "text": [
      "\n",
      "Stacking Ensemble Accuracy: 0.480\n",
      "\n",
      "Stacking Ensemble Classification Report:\n",
      "              precision    recall  f1-score   support\n",
      "\n",
      "           0       0.24      0.83      0.37        47\n",
      "           1       0.41      0.53      0.46       133\n",
      "           2       0.82      0.78      0.80       161\n",
      "           3       0.40      0.03      0.05       159\n",
      "\n",
      "    accuracy                           0.48       500\n",
      "   macro avg       0.47      0.54      0.42       500\n",
      "weighted avg       0.52      0.48      0.43       500\n",
      "\n"
     ]
    },
    {
     "name": "stderr",
     "output_type": "stream",
     "text": [
      "c:\\Users\\ankit\\anaconda3\\Lib\\site-packages\\xgboost\\training.py:183: UserWarning: [20:48:00] WARNING: C:\\actions-runner\\_work\\xgboost\\xgboost\\src\\learner.cc:738: \n",
      "Parameters: { \"scale_pos_weight\" } are not used.\n",
      "\n",
      "  bst.update(dtrain, iteration=i, fobj=obj)\n",
      "c:\\Users\\ankit\\anaconda3\\Lib\\site-packages\\xgboost\\training.py:183: UserWarning: [20:48:18] WARNING: C:\\actions-runner\\_work\\xgboost\\xgboost\\src\\learner.cc:738: \n",
      "Parameters: { \"scale_pos_weight\" } are not used.\n",
      "\n",
      "  bst.update(dtrain, iteration=i, fobj=obj)\n",
      "c:\\Users\\ankit\\anaconda3\\Lib\\site-packages\\xgboost\\training.py:183: UserWarning: [20:48:18] WARNING: C:\\actions-runner\\_work\\xgboost\\xgboost\\src\\learner.cc:738: \n",
      "Parameters: { \"scale_pos_weight\" } are not used.\n",
      "\n",
      "  bst.update(dtrain, iteration=i, fobj=obj)\n",
      "c:\\Users\\ankit\\anaconda3\\Lib\\site-packages\\xgboost\\training.py:183: UserWarning: [20:48:19] WARNING: C:\\actions-runner\\_work\\xgboost\\xgboost\\src\\learner.cc:738: \n",
      "Parameters: { \"scale_pos_weight\" } are not used.\n",
      "\n",
      "  bst.update(dtrain, iteration=i, fobj=obj)\n",
      "c:\\Users\\ankit\\anaconda3\\Lib\\site-packages\\xgboost\\training.py:183: UserWarning: [20:48:19] WARNING: C:\\actions-runner\\_work\\xgboost\\xgboost\\src\\learner.cc:738: \n",
      "Parameters: { \"scale_pos_weight\" } are not used.\n",
      "\n",
      "  bst.update(dtrain, iteration=i, fobj=obj)\n",
      "c:\\Users\\ankit\\anaconda3\\Lib\\site-packages\\xgboost\\training.py:183: UserWarning: [20:48:20] WARNING: C:\\actions-runner\\_work\\xgboost\\xgboost\\src\\learner.cc:738: \n",
      "Parameters: { \"scale_pos_weight\" } are not used.\n",
      "\n",
      "  bst.update(dtrain, iteration=i, fobj=obj)\n",
      "c:\\Users\\ankit\\anaconda3\\Lib\\site-packages\\xgboost\\training.py:183: UserWarning: [20:48:26] WARNING: C:\\actions-runner\\_work\\xgboost\\xgboost\\src\\learner.cc:738: \n",
      "Parameters: { \"scale_pos_weight\" } are not used.\n",
      "\n",
      "  bst.update(dtrain, iteration=i, fobj=obj)\n",
      "c:\\Users\\ankit\\anaconda3\\Lib\\site-packages\\xgboost\\training.py:183: UserWarning: [20:48:45] WARNING: C:\\actions-runner\\_work\\xgboost\\xgboost\\src\\learner.cc:738: \n",
      "Parameters: { \"scale_pos_weight\" } are not used.\n",
      "\n",
      "  bst.update(dtrain, iteration=i, fobj=obj)\n",
      "c:\\Users\\ankit\\anaconda3\\Lib\\site-packages\\xgboost\\training.py:183: UserWarning: [20:48:46] WARNING: C:\\actions-runner\\_work\\xgboost\\xgboost\\src\\learner.cc:738: \n",
      "Parameters: { \"scale_pos_weight\" } are not used.\n",
      "\n",
      "  bst.update(dtrain, iteration=i, fobj=obj)\n",
      "c:\\Users\\ankit\\anaconda3\\Lib\\site-packages\\xgboost\\training.py:183: UserWarning: [20:48:47] WARNING: C:\\actions-runner\\_work\\xgboost\\xgboost\\src\\learner.cc:738: \n",
      "Parameters: { \"scale_pos_weight\" } are not used.\n",
      "\n",
      "  bst.update(dtrain, iteration=i, fobj=obj)\n",
      "c:\\Users\\ankit\\anaconda3\\Lib\\site-packages\\xgboost\\training.py:183: UserWarning: [20:48:48] WARNING: C:\\actions-runner\\_work\\xgboost\\xgboost\\src\\learner.cc:738: \n",
      "Parameters: { \"scale_pos_weight\" } are not used.\n",
      "\n",
      "  bst.update(dtrain, iteration=i, fobj=obj)\n",
      "c:\\Users\\ankit\\anaconda3\\Lib\\site-packages\\xgboost\\training.py:183: UserWarning: [20:48:48] WARNING: C:\\actions-runner\\_work\\xgboost\\xgboost\\src\\learner.cc:738: \n",
      "Parameters: { \"scale_pos_weight\" } are not used.\n",
      "\n",
      "  bst.update(dtrain, iteration=i, fobj=obj)\n",
      "c:\\Users\\ankit\\anaconda3\\Lib\\site-packages\\xgboost\\training.py:183: UserWarning: [20:48:55] WARNING: C:\\actions-runner\\_work\\xgboost\\xgboost\\src\\learner.cc:738: \n",
      "Parameters: { \"scale_pos_weight\" } are not used.\n",
      "\n",
      "  bst.update(dtrain, iteration=i, fobj=obj)\n",
      "c:\\Users\\ankit\\anaconda3\\Lib\\site-packages\\xgboost\\training.py:183: UserWarning: [20:49:13] WARNING: C:\\actions-runner\\_work\\xgboost\\xgboost\\src\\learner.cc:738: \n",
      "Parameters: { \"scale_pos_weight\" } are not used.\n",
      "\n",
      "  bst.update(dtrain, iteration=i, fobj=obj)\n",
      "c:\\Users\\ankit\\anaconda3\\Lib\\site-packages\\xgboost\\training.py:183: UserWarning: [20:49:14] WARNING: C:\\actions-runner\\_work\\xgboost\\xgboost\\src\\learner.cc:738: \n",
      "Parameters: { \"scale_pos_weight\" } are not used.\n",
      "\n",
      "  bst.update(dtrain, iteration=i, fobj=obj)\n",
      "c:\\Users\\ankit\\anaconda3\\Lib\\site-packages\\xgboost\\training.py:183: UserWarning: [20:49:15] WARNING: C:\\actions-runner\\_work\\xgboost\\xgboost\\src\\learner.cc:738: \n",
      "Parameters: { \"scale_pos_weight\" } are not used.\n",
      "\n",
      "  bst.update(dtrain, iteration=i, fobj=obj)\n",
      "c:\\Users\\ankit\\anaconda3\\Lib\\site-packages\\xgboost\\training.py:183: UserWarning: [20:49:15] WARNING: C:\\actions-runner\\_work\\xgboost\\xgboost\\src\\learner.cc:738: \n",
      "Parameters: { \"scale_pos_weight\" } are not used.\n",
      "\n",
      "  bst.update(dtrain, iteration=i, fobj=obj)\n",
      "c:\\Users\\ankit\\anaconda3\\Lib\\site-packages\\xgboost\\training.py:183: UserWarning: [20:49:16] WARNING: C:\\actions-runner\\_work\\xgboost\\xgboost\\src\\learner.cc:738: \n",
      "Parameters: { \"scale_pos_weight\" } are not used.\n",
      "\n",
      "  bst.update(dtrain, iteration=i, fobj=obj)\n",
      "c:\\Users\\ankit\\anaconda3\\Lib\\site-packages\\xgboost\\training.py:183: UserWarning: [20:49:23] WARNING: C:\\actions-runner\\_work\\xgboost\\xgboost\\src\\learner.cc:738: \n",
      "Parameters: { \"scale_pos_weight\" } are not used.\n",
      "\n",
      "  bst.update(dtrain, iteration=i, fobj=obj)\n",
      "c:\\Users\\ankit\\anaconda3\\Lib\\site-packages\\xgboost\\training.py:183: UserWarning: [20:49:44] WARNING: C:\\actions-runner\\_work\\xgboost\\xgboost\\src\\learner.cc:738: \n",
      "Parameters: { \"scale_pos_weight\" } are not used.\n",
      "\n",
      "  bst.update(dtrain, iteration=i, fobj=obj)\n",
      "c:\\Users\\ankit\\anaconda3\\Lib\\site-packages\\xgboost\\training.py:183: UserWarning: [20:49:45] WARNING: C:\\actions-runner\\_work\\xgboost\\xgboost\\src\\learner.cc:738: \n",
      "Parameters: { \"scale_pos_weight\" } are not used.\n",
      "\n",
      "  bst.update(dtrain, iteration=i, fobj=obj)\n",
      "c:\\Users\\ankit\\anaconda3\\Lib\\site-packages\\xgboost\\training.py:183: UserWarning: [20:49:45] WARNING: C:\\actions-runner\\_work\\xgboost\\xgboost\\src\\learner.cc:738: \n",
      "Parameters: { \"scale_pos_weight\" } are not used.\n",
      "\n",
      "  bst.update(dtrain, iteration=i, fobj=obj)\n",
      "c:\\Users\\ankit\\anaconda3\\Lib\\site-packages\\xgboost\\training.py:183: UserWarning: [20:49:46] WARNING: C:\\actions-runner\\_work\\xgboost\\xgboost\\src\\learner.cc:738: \n",
      "Parameters: { \"scale_pos_weight\" } are not used.\n",
      "\n",
      "  bst.update(dtrain, iteration=i, fobj=obj)\n",
      "c:\\Users\\ankit\\anaconda3\\Lib\\site-packages\\xgboost\\training.py:183: UserWarning: [20:49:46] WARNING: C:\\actions-runner\\_work\\xgboost\\xgboost\\src\\learner.cc:738: \n",
      "Parameters: { \"scale_pos_weight\" } are not used.\n",
      "\n",
      "  bst.update(dtrain, iteration=i, fobj=obj)\n",
      "c:\\Users\\ankit\\anaconda3\\Lib\\site-packages\\xgboost\\training.py:183: UserWarning: [20:49:54] WARNING: C:\\actions-runner\\_work\\xgboost\\xgboost\\src\\learner.cc:738: \n",
      "Parameters: { \"scale_pos_weight\" } are not used.\n",
      "\n",
      "  bst.update(dtrain, iteration=i, fobj=obj)\n",
      "c:\\Users\\ankit\\anaconda3\\Lib\\site-packages\\xgboost\\training.py:183: UserWarning: [20:50:11] WARNING: C:\\actions-runner\\_work\\xgboost\\xgboost\\src\\learner.cc:738: \n",
      "Parameters: { \"scale_pos_weight\" } are not used.\n",
      "\n",
      "  bst.update(dtrain, iteration=i, fobj=obj)\n",
      "c:\\Users\\ankit\\anaconda3\\Lib\\site-packages\\xgboost\\training.py:183: UserWarning: [20:50:12] WARNING: C:\\actions-runner\\_work\\xgboost\\xgboost\\src\\learner.cc:738: \n",
      "Parameters: { \"scale_pos_weight\" } are not used.\n",
      "\n",
      "  bst.update(dtrain, iteration=i, fobj=obj)\n",
      "c:\\Users\\ankit\\anaconda3\\Lib\\site-packages\\xgboost\\training.py:183: UserWarning: [20:50:12] WARNING: C:\\actions-runner\\_work\\xgboost\\xgboost\\src\\learner.cc:738: \n",
      "Parameters: { \"scale_pos_weight\" } are not used.\n",
      "\n",
      "  bst.update(dtrain, iteration=i, fobj=obj)\n",
      "c:\\Users\\ankit\\anaconda3\\Lib\\site-packages\\xgboost\\training.py:183: UserWarning: [20:50:13] WARNING: C:\\actions-runner\\_work\\xgboost\\xgboost\\src\\learner.cc:738: \n",
      "Parameters: { \"scale_pos_weight\" } are not used.\n",
      "\n",
      "  bst.update(dtrain, iteration=i, fobj=obj)\n",
      "c:\\Users\\ankit\\anaconda3\\Lib\\site-packages\\xgboost\\training.py:183: UserWarning: [20:50:14] WARNING: C:\\actions-runner\\_work\\xgboost\\xgboost\\src\\learner.cc:738: \n",
      "Parameters: { \"scale_pos_weight\" } are not used.\n",
      "\n",
      "  bst.update(dtrain, iteration=i, fobj=obj)\n"
     ]
    },
    {
     "name": "stdout",
     "output_type": "stream",
     "text": [
      "\n",
      "Stacking Ensemble CV Score: 0.508 (+/- 0.036)\n"
     ]
    }
   ],
   "source": [
    "# ============= ADVANCED STACKING ENSEMBLE =============\n",
    "print(\"Creating Advanced Stacking Ensemble...\")\n",
    "\n",
    "from sklearn.ensemble import StackingClassifier\n",
    "from sklearn.linear_model import LogisticRegression\n",
    "from sklearn.model_selection import cross_val_score\n",
    "\n",
    "# Use the same base models\n",
    "base_models = []\n",
    "\n",
    "# Random Forest\n",
    "rf_stack = RandomForestClassifier(\n",
    "    n_estimators=800, max_depth=15, class_weight='balanced', random_state=42\n",
    ")\n",
    "base_models.append(('rf', rf_stack))\n",
    "\n",
    "# XGBoost or LightGBM\n",
    "try:\n",
    "    import xgboost as xgb\n",
    "    xgb_stack = xgb.XGBClassifier(\n",
    "        n_estimators=400, max_depth=6, scale_pos_weight=3, random_state=42\n",
    "    )\n",
    "    base_models.append(('xgb', xgb_stack))\n",
    "except ImportError:\n",
    "    import lightgbm as lgb\n",
    "    lgb_stack = lgb.LGBMClassifier(\n",
    "        n_estimators=400, class_weight='balanced', random_state=42, verbose=-1\n",
    "    )\n",
    "    base_models.append(('lgb', lgb_stack))\n",
    "\n",
    "# SVM\n",
    "svm_stack = SVC(probability=True, class_weight='balanced', random_state=42)\n",
    "base_models.append(('svm', svm_stack))\n",
    "\n",
    "# Meta-learner (learns how to best combine the base models)\n",
    "meta_learner = LogisticRegression(class_weight='balanced', random_state=42)\n",
    "\n",
    "# Create stacking ensemble\n",
    "stacking_model = StackingClassifier(\n",
    "    estimators=base_models,\n",
    "    final_estimator=meta_learner,\n",
    "    cv=5,  # 5-fold cross-validation\n",
    "    stack_method='predict_proba'  # Use probabilities\n",
    ")\n",
    "\n",
    "# Train stacking ensemble\n",
    "print(\"Training Stacking Ensemble...\")\n",
    "stacking_model.fit(X_train_final, Y_train['severity_level_encoded'])\n",
    "\n",
    "# Predict\n",
    "y_pred_stacking = stacking_model.predict(X_test_final)\n",
    "\n",
    "# Evaluate\n",
    "accuracy_stacking = accuracy_score(Y_test['severity_level_encoded'], y_pred_stacking)\n",
    "print(f\"\\nStacking Ensemble Accuracy: {accuracy_stacking:.3f}\")\n",
    "print(\"\\nStacking Ensemble Classification Report:\")\n",
    "print(classification_report(Y_test['severity_level_encoded'], y_pred_stacking))\n",
    "\n",
    "# Cross-validation score\n",
    "cv_scores = cross_val_score(stacking_model, X_train_final, Y_train['severity_level_encoded'], cv=5)\n",
    "print(f\"\\nStacking Ensemble CV Score: {cv_scores.mean():.3f} (+/- {cv_scores.std() * 2:.3f})\")\n"
   ]
  },
  {
   "cell_type": "code",
   "execution_count": 192,
   "id": "ed512d10",
   "metadata": {},
   "outputs": [
    {
     "name": "stdout",
     "output_type": "stream",
     "text": [
      "Best KNN params per output:\n",
      "knee_condition_encoded: {'n_neighbors': 11}\n",
      "severity_level_encoded: {'n_neighbors': 11}\n",
      "treatment_advised_encoded: {'n_neighbors': 11}\n",
      "\n",
      "Best SVM params per output:\n",
      "knee_condition_encoded: {'C': 10, 'kernel': 'linear'}\n",
      "severity_level_encoded: {'C': 10, 'kernel': 'rbf'}\n",
      "treatment_advised_encoded: {'C': 10, 'kernel': 'linear'}\n",
      "\n",
      "Best RandomForest params per output:\n",
      "knee_condition_encoded: {'max_depth': 10, 'n_estimators': 200}\n",
      "severity_level_encoded: {'max_depth': 10, 'n_estimators': 200}\n",
      "treatment_advised_encoded: {'max_depth': 10, 'n_estimators': 100}\n",
      "\n",
      "Cross-validation scores (5-fold):\n",
      "KNN - knee_condition_encoded: Mean acc = 0.86, Std = 0.01\n",
      "KNN - severity_level_encoded: Mean acc = 0.55, Std = 0.03\n",
      "KNN - treatment_advised_encoded: Mean acc = 0.72, Std = 0.02\n",
      "SVM - knee_condition_encoded: Mean acc = 0.87, Std = 0.01\n",
      "SVM - severity_level_encoded: Mean acc = 0.55, Std = 0.02\n",
      "SVM - treatment_advised_encoded: Mean acc = 0.75, Std = 0.02\n",
      "RandomForest - knee_condition_encoded: Mean acc = 0.86, Std = 0.02\n",
      "RandomForest - severity_level_encoded: Mean acc = 0.54, Std = 0.01\n",
      "RandomForest - treatment_advised_encoded: Mean acc = 0.74, Std = 0.02\n"
     ]
    }
   ],
   "source": [
    "#tuning the knn model\n",
    "#We tuned KNN, SVM, and RandomForest models via 5-fold cross-validation using GridSearchCV. The mean accuracy and standard deviation are reported to ensure robustness of results\n",
    "from sklearn.model_selection import GridSearchCV, cross_val_score\n",
    "from sklearn.neighbors import KNeighborsClassifier\n",
    "from sklearn.svm import SVC\n",
    "from sklearn.ensemble import RandomForestClassifier\n",
    "from sklearn.multioutput import MultiOutputClassifier\n",
    "\n",
    "# -------- 1️⃣ Hyperparameter tuning for KNN --------\n",
    "\n",
    "knn = KNeighborsClassifier()\n",
    "\n",
    "knn_params = {\n",
    "    'n_neighbors': [3, 5, 7, 9, 11]\n",
    "}\n",
    "\n",
    "knn_grid = GridSearchCV(knn, knn_params, cv=5, scoring='accuracy')\n",
    "multi_knn_grid = MultiOutputClassifier(knn_grid)\n",
    "\n",
    "# Fit multi-output KNN grid\n",
    "multi_knn_grid.fit(X_train_final, Y_train)\n",
    "\n",
    "# Best params for each output:\n",
    "print(\"Best KNN params per output:\")\n",
    "for i, estimator in enumerate(multi_knn_grid.estimators_):\n",
    "    print(f\"{Y.columns[i]}: {estimator.best_params_}\")\n",
    "\n",
    "# -------- 2️⃣ Hyperparameter tuning for SVM --------\n",
    "\n",
    "svm = SVC()\n",
    "\n",
    "svm_params = {\n",
    "    'C': [0.1, 1, 10],\n",
    "    'kernel': ['linear', 'rbf']\n",
    "}\n",
    "\n",
    "svm_grid = GridSearchCV(svm, svm_params, cv=5, scoring='accuracy')\n",
    "multi_svm_grid = MultiOutputClassifier(svm_grid)\n",
    "\n",
    "# Fit multi-output SVM grid\n",
    "multi_svm_grid.fit(X_train_final, Y_train)\n",
    "\n",
    "# Best params for each output:\n",
    "print(\"\\nBest SVM params per output:\")\n",
    "for i, estimator in enumerate(multi_svm_grid.estimators_):\n",
    "    print(f\"{Y.columns[i]}: {estimator.best_params_}\")\n",
    "\n",
    "# -------- 3️⃣ Optional: Hyperparameter tuning for RandomForest --------\n",
    "\n",
    "rf = RandomForestClassifier(random_state=42)\n",
    "\n",
    "rf_params = {\n",
    "    'n_estimators': [100, 200],\n",
    "    'max_depth': [None, 10, 20]\n",
    "}\n",
    "\n",
    "rf_grid = GridSearchCV(rf, rf_params, cv=5, scoring='accuracy')\n",
    "multi_rf_grid = MultiOutputClassifier(rf_grid)\n",
    "\n",
    "# Fit multi-output RF grid\n",
    "multi_rf_grid.fit(X_train_final, Y_train)\n",
    "\n",
    "# Best params for each output:\n",
    "print(\"\\nBest RandomForest params per output:\")\n",
    "for i, estimator in enumerate(multi_rf_grid.estimators_):\n",
    "    print(f\"{Y.columns[i]}: {estimator.best_params_}\")\n",
    "\n",
    "# -------- 4️⃣ Cross-validation scores --------\n",
    "\n",
    "# Example with KNN tuned:\n",
    "\n",
    "print(\"\\nCross-validation scores (5-fold):\")\n",
    "\n",
    "for i, col in enumerate(Y.columns):\n",
    "    knn_cv_score = cross_val_score(KNeighborsClassifier(n_neighbors=multi_knn_grid.estimators_[i].best_params_['n_neighbors']),\n",
    "                                   X, Y.iloc[:, i], cv=5, scoring='accuracy')\n",
    "    print(f\"KNN - {col}: Mean acc = {knn_cv_score.mean():.2f}, Std = {knn_cv_score.std():.2f}\")\n",
    "\n",
    "# You can do similar for SVM and RF:\n",
    "# Cross-validation for SVM:\n",
    "for i, col in enumerate(Y.columns):\n",
    "    best_svm_params = multi_svm_grid.estimators_[i].best_params_\n",
    "    svm_model = SVC(C=best_svm_params['C'], kernel=best_svm_params['kernel'])\n",
    "    svm_cv_score = cross_val_score(svm_model, X, Y.iloc[:, i], cv=5, scoring='accuracy')\n",
    "    print(f\"SVM - {col}: Mean acc = {svm_cv_score.mean():.2f}, Std = {svm_cv_score.std():.2f}\")\n",
    "\n",
    "# Cross-validation for RandomForest:\n",
    "for i, col in enumerate(Y.columns):\n",
    "    best_rf_params = multi_rf_grid.estimators_[i].best_params_\n",
    "    rf_model = RandomForestClassifier(n_estimators=best_rf_params['n_estimators'],\n",
    "                                      max_depth=best_rf_params['max_depth'],\n",
    "                                      random_state=42)\n",
    "    rf_cv_score = cross_val_score(rf_model, X, Y.iloc[:, i], cv=5, scoring='accuracy')\n",
    "    print(f\"RandomForest - {col}: Mean acc = {rf_cv_score.mean():.2f}, Std = {rf_cv_score.std():.2f}\")\n"
   ]
  },
  {
   "cell_type": "code",
   "execution_count": 193,
   "id": "a2f38cbe",
   "metadata": {},
   "outputs": [
    {
     "data": {
      "image/png": "[encoded data removed]",
      "text/plain": [
       "<Figure size 640x480 with 2 Axes>"
      ]
     },
     "metadata": {},
     "output_type": "display_data"
    },
    {
     "data": {
      "image/png": "[encoded data removed]",
      "text/plain": [
       "<Figure size 640x480 with 2 Axes>"
      ]
     },
     "metadata": {},
     "output_type": "display_data"
    },
    {
     "data": {
      "image/png": "[encoded data removed]",
      "text/plain": [
       "<Figure size 640x480 with 2 Axes>"
      ]
     },
     "metadata": {},
     "output_type": "display_data"
    }
   ],
   "source": [
    "from sklearn.metrics import confusion_matrix, ConfusionMatrixDisplay\n",
    "\n",
    "# For each output, plot Confusion Matrix for SVM (as an example)\n",
    "# can repeat for KNN and RF if you want.\n",
    "\n",
    "# Predict with tuned SVM\n",
    "Y_pred_svm = multi_svm_grid.predict(X_test_final)\n",
    "\n",
    "# Plot Confusion Matrix for each output:\n",
    "for i, col in enumerate(Y.columns):\n",
    "    cm = confusion_matrix(Y_test.iloc[:, i], Y_pred_svm[:, i])\n",
    "    disp = ConfusionMatrixDisplay(confusion_matrix=cm)\n",
    "    disp.plot(cmap='Blues')\n",
    "    plt.title(f'Confusion Matrix for {col} (SVM)')\n",
    "    plt.show()\n"
   ]
  },
  {
   "cell_type": "code",
   "execution_count": 194,
   "id": "f1a52cb5",
   "metadata": {},
   "outputs": [
    {
     "name": "stdout",
     "output_type": "stream",
     "text": [
      "----- KNN Evaluation -----\n",
      "Accuracy for knee_condition_encoded: 0.870\n",
      "knee_condition_encoded Classification Report:\n",
      "              precision    recall  f1-score   support\n",
      "\n",
      "           0       1.00      1.00      1.00       183\n",
      "           1       0.81      0.78      0.79       161\n",
      "           2       0.78      0.81      0.79       156\n",
      "\n",
      "    accuracy                           0.87       500\n",
      "   macro avg       0.86      0.86      0.86       500\n",
      "weighted avg       0.87      0.87      0.87       500\n",
      "\n",
      "Accuracy for severity_level_encoded: 0.562\n",
      "severity_level_encoded Classification Report:\n",
      "              precision    recall  f1-score   support\n",
      "\n",
      "           0       0.20      0.23      0.22        47\n",
      "           1       0.48      0.41      0.45       133\n",
      "           2       0.75      0.90      0.82       161\n",
      "           3       0.51      0.44      0.47       159\n",
      "\n",
      "    accuracy                           0.56       500\n",
      "   macro avg       0.49      0.50      0.49       500\n",
      "weighted avg       0.55      0.56      0.55       500\n",
      "\n",
      "Accuracy for treatment_advised_encoded: 0.774\n",
      "treatment_advised_encoded Classification Report:\n",
      "              precision    recall  f1-score   support\n",
      "\n",
      "           0       0.75      0.91      0.82       161\n",
      "           1       0.53      0.37      0.43        76\n",
      "           2       0.84      0.81      0.83       263\n",
      "\n",
      "    accuracy                           0.77       500\n",
      "   macro avg       0.71      0.70      0.69       500\n",
      "weighted avg       0.77      0.77      0.77       500\n",
      "\n"
     ]
    }
   ],
   "source": [
    "#KNN with n_neighbors=1\n",
    "from sklearn.neighbors import KNeighborsClassifier\n",
    "from sklearn.multioutput import MultiOutputClassifier\n",
    "from sklearn.metrics import accuracy_score, classification_report\n",
    "\n",
    "# Use best hyperparameters\n",
    "knn = KNeighborsClassifier(n_neighbors=11)\n",
    "multi_knn = MultiOutputClassifier(knn)\n",
    "\n",
    "# Train\n",
    "multi_knn.fit(X_train_final, Y_train)\n",
    "\n",
    "# Predict\n",
    "Y_pred_knn = multi_knn.predict(X_test_final)\n",
    "\n",
    "# Evaluate\n",
    "print(\"----- KNN Evaluation -----\")\n",
    "for i, col in enumerate(Y.columns):\n",
    "    acc = accuracy_score(Y_test.iloc[:, i], Y_pred_knn[:, i])\n",
    "    print(f\"Accuracy for {col}: {acc:.3f}\")\n",
    "    print(f\"{col} Classification Report:\")\n",
    "    print(classification_report(Y_test.iloc[:, i], Y_pred_knn[:, i]))\n"
   ]
  },
  {
   "cell_type": "code",
   "execution_count": 195,
   "id": "99918769",
   "metadata": {},
   "outputs": [
    {
     "name": "stdout",
     "output_type": "stream",
     "text": [
      "----- Random Forest Evaluation -----\n",
      "Accuracy for knee_condition_encoded: 0.870\n",
      "knee_condition_encoded Classification Report:\n",
      "              precision    recall  f1-score   support\n",
      "\n",
      "           0       1.00      1.00      1.00       183\n",
      "           1       0.80      0.80      0.80       161\n",
      "           2       0.79      0.79      0.79       156\n",
      "\n",
      "    accuracy                           0.87       500\n",
      "   macro avg       0.86      0.86      0.86       500\n",
      "weighted avg       0.87      0.87      0.87       500\n",
      "\n",
      "Accuracy for severity_level_encoded: 0.526\n",
      "severity_level_encoded Classification Report:\n",
      "              precision    recall  f1-score   support\n",
      "\n",
      "           0       0.30      0.32      0.31        47\n",
      "           1       0.38      0.38      0.38       133\n",
      "           2       0.74      0.87      0.80       161\n",
      "           3       0.45      0.36      0.40       159\n",
      "\n",
      "    accuracy                           0.53       500\n",
      "   macro avg       0.47      0.48      0.47       500\n",
      "weighted avg       0.51      0.53      0.52       500\n",
      "\n",
      "Accuracy for treatment_advised_encoded: 0.772\n",
      "treatment_advised_encoded Classification Report:\n",
      "              precision    recall  f1-score   support\n",
      "\n",
      "           0       0.77      0.87      0.82       161\n",
      "           1       0.47      0.32      0.38        76\n",
      "           2       0.83      0.84      0.84       263\n",
      "\n",
      "    accuracy                           0.77       500\n",
      "   macro avg       0.69      0.68      0.68       500\n",
      "weighted avg       0.76      0.77      0.76       500\n",
      "\n"
     ]
    }
   ],
   "source": [
    "#Since Random Forest needs separate models per output (due to different best params)\n",
    "from sklearn.ensemble import RandomForestClassifier\n",
    "\n",
    "# Best params per output\n",
    "rf_params = {\n",
    "    'knee_condition_encoded': {'n_estimators': 100, 'max_depth': 10},\n",
    "    'severity_level_encoded': {'n_estimators': 200, 'max_depth': 20},\n",
    "    'treatment_advised_encoded': {'n_estimators': 200, 'max_depth': 10}\n",
    "}\n",
    "\n",
    "print(\"----- Random Forest Evaluation -----\")\n",
    "for col in Y.columns:\n",
    "    rf = RandomForestClassifier(\n",
    "        n_estimators=rf_params[col]['n_estimators'],\n",
    "        max_depth=rf_params[col]['max_depth'],\n",
    "        random_state=42\n",
    "    )\n",
    "    \n",
    "    rf.fit(X_train_final, Y_train[col])\n",
    "    y_pred = rf.predict(X_test_final)\n",
    "    \n",
    "    acc = accuracy_score(Y_test[col], y_pred)\n",
    "    print(f\"Accuracy for {col}: {acc:.3f}\")\n",
    "    print(f\"{col} Classification Report:\")\n",
    "    print(classification_report(Y_test[col], y_pred))\n"
   ]
  },
  {
   "cell_type": "code",
   "execution_count": 196,
   "id": "b4c0cbb7",
   "metadata": {},
   "outputs": [
    {
     "name": "stdout",
     "output_type": "stream",
     "text": [
      "----- Final SVM Evaluation -----\n",
      "Accuracy for knee_condition_encoded: 0.882\n",
      "knee_condition_encoded Classification Report:\n",
      "              precision    recall  f1-score   support\n",
      "\n",
      "           0       1.00      1.00      1.00       183\n",
      "           1       0.83      0.80      0.81       161\n",
      "           2       0.80      0.83      0.82       156\n",
      "\n",
      "    accuracy                           0.88       500\n",
      "   macro avg       0.88      0.88      0.88       500\n",
      "weighted avg       0.88      0.88      0.88       500\n",
      "\n",
      "Accuracy for severity_level_encoded: 0.558\n",
      "severity_level_encoded Classification Report:\n",
      "              precision    recall  f1-score   support\n",
      "\n",
      "           0       0.24      0.21      0.22        47\n",
      "           1       0.47      0.56      0.51       133\n",
      "           2       0.72      0.95      0.82       161\n",
      "           3       0.47      0.26      0.34       159\n",
      "\n",
      "    accuracy                           0.56       500\n",
      "   macro avg       0.48      0.50      0.47       500\n",
      "weighted avg       0.53      0.56      0.53       500\n",
      "\n",
      "Accuracy for treatment_advised_encoded: 0.766\n",
      "treatment_advised_encoded Classification Report:\n",
      "              precision    recall  f1-score   support\n",
      "\n",
      "           0       0.77      0.91      0.83       161\n",
      "           1       0.42      0.18      0.26        76\n",
      "           2       0.81      0.84      0.83       263\n",
      "\n",
      "    accuracy                           0.77       500\n",
      "   macro avg       0.67      0.65      0.64       500\n",
      "weighted avg       0.74      0.77      0.74       500\n",
      "\n"
     ]
    }
   ],
   "source": [
    "from sklearn.svm import SVC\n",
    "from sklearn.metrics import accuracy_score, classification_report\n",
    "\n",
    "# Best parameters per target\n",
    "svm_params = {\n",
    "    'knee_condition_encoded': {'kernel': 'linear', 'C': 10},\n",
    "    'severity_level_encoded': {'kernel': 'rbf', 'C': 10},\n",
    "    'treatment_advised_encoded': {'kernel': 'linear', 'C': 10}\n",
    "}\n",
    "\n",
    "print(\"----- Final SVM Evaluation -----\")\n",
    "for col in Y.columns:\n",
    "    # Initialize with best params\n",
    "    svm = SVC(\n",
    "        kernel=svm_params[col]['kernel'],\n",
    "        C=svm_params[col]['C'],\n",
    "        random_state=42\n",
    "    )\n",
    "    \n",
    "    # Fit & predict\n",
    "    svm.fit(X_train_final, Y_train[col])\n",
    "    y_pred = svm.predict(X_test_final)\n",
    "    \n",
    "    # Evaluate\n",
    "    acc = accuracy_score(Y_test[col], y_pred)\n",
    "    print(f\"Accuracy for {col}: {acc:.3f}\")\n",
    "    print(f\"{col} Classification Report:\")\n",
    "    print(classification_report(Y_test[col], y_pred))\n"
   ]
  },
  {
   "cell_type": "code",
   "execution_count": 197,
   "id": "d2093c24",
   "metadata": {},
   "outputs": [],
   "source": [
    "\n",
    "def get_valid_input(prompt, min_val, max_val, decimals=4):\n",
    "    while True:\n",
    "        try:\n",
    "            value = round(float(input(f\"{prompt} ({min_val} to {max_val}): \")), decimals)\n",
    "            if min_val <= value <= max_val:\n",
    "                return value\n",
    "            else:\n",
    "                print(f\" Value out of range. Please enter between {min_val} and {max_val}.\")\n",
    "        except ValueError:\n",
    "            print(\" Invalid input. Please enter a numeric value.\")\n",
    "\n",
    "def predict_knee_condition(model, scaler, le_knee, le_severity, le_treatment, default_peak_frequency):\n",
    "    print(\"Enter the following features (within valid ranges):\")\n",
    "\n",
    "    # Use helper function to get each input\n",
    "    rms_amplitude = get_valid_input(\"RMS Amplitude\", 0.5, 1.5)\n",
    "    spectral_entropy = get_valid_input(\"Spectral Entropy\", -4000, -1500)\n",
    "    zero_crossing_rate = get_valid_input(\"Zero Crossing Rate\", 0.0, 0.01)\n",
    "    mean_frequency = get_valid_input(\"Mean Frequency\", 30.0, 50.0)\n",
    "\n",
    "    # Use the cleaned median value for peak_frequency\n",
    "    peak_frequency = default_peak_frequency\n",
    "\n",
    "    # Scale and predict\n",
    "    \n",
    "    feature_names = ['rms_amplitude', 'peak_frequency', 'spectral_entropy', 'zero_crossing_rate', 'mean_frequency']\n",
    "\n",
    "    user_input = pd.DataFrame([[rms_amplitude, peak_frequency, spectral_entropy,\n",
    "                            zero_crossing_rate, mean_frequency]],columns=feature_names)\n",
    "    user_input_scaled = scaler.transform(user_input)\n",
    "\n",
    "    prediction = model.predict(user_input_scaled)\n",
    "    knee_condition = le_knee.inverse_transform([prediction[0][0]])[0]\n",
    "    severity_level = le_severity.inverse_transform([prediction[0][1]])[0]\n",
    "    treatment_advised = le_treatment.inverse_transform([prediction[0][2]])[0]\n",
    "\n",
    "    print(\"\\n Input\")\n",
    "    print(f\"RMS Amplitude: {rms_amplitude}\")\n",
    "    print(f\"Spectral Entropy: {spectral_entropy}\")\n",
    "    print(f\"Zero Crossing Rate: {zero_crossing_rate}\")\n",
    "    print(f\"Mean Frequency: {mean_frequency}\")\n",
    "    print(f\"Peak Frequency (default): {peak_frequency}\")\n",
    "\n",
    "    print(\"\\n Prediction:\")\n",
    "    print(f\"- Knee Condition: {knee_condition}\")\n",
    "    print(f\"- Severity Level: {severity_level}\")\n",
    "    print(f\"- Treatment Advised: {treatment_advised}\")\n"
   ]
  },
  {
   "cell_type": "code",
   "execution_count": 198,
   "id": "ee84e250",
   "metadata": {},
   "outputs": [
    {
     "name": "stdout",
     "output_type": "stream",
     "text": [
      "\n",
      "============================================================\n",
      "FINAL RESULTS COMPARISON\n",
      "============================================================\n",
      "Original Random Forest   : 0.520 (+0.0% improvement)\n",
      "Enhanced Random Forest   : 0.000 (+0.0% improvement)\n",
      "XGBoost/LightGBM         : 0.000 (+0.0% improvement)\n",
      "Voting Ensemble          : 0.524 (+0.8% improvement)\n",
      "Stacking Ensemble        : 0.480 (-7.7% improvement)\n",
      "\n",
      "Best Model: Voting Ensemble\n",
      "Best Accuracy: 0.524\n",
      "Total Improvement: 0.8%\n"
     ]
    }
   ],
   "source": [
    "# ============= COMPARE ALL MODELS =============\n",
    "print(\"\\n\" + \"=\"*60)\n",
    "print(\"FINAL RESULTS COMPARISON\")\n",
    "print(\"=\"*60)\n",
    "\n",
    "# Collect all your accuracy results\n",
    "results = {\n",
    "    'Original Random Forest': 0.52,  # Replace with your actual result\n",
    "    'Enhanced Random Forest': accuracy_rf if 'accuracy_rf' in locals() else 0.0,\n",
    "    'XGBoost/LightGBM': accuracy_lgb if 'accuracy_lgb' in locals() else 0.0,\n",
    "    'Voting Ensemble': accuracy_ensemble,\n",
    "    'Stacking Ensemble': accuracy_stacking\n",
    "}\n",
    "\n",
    "# Display results\n",
    "for model, accuracy in results.items():\n",
    "    improvement = ((accuracy - 0.52) / 0.52) * 100 if accuracy > 0 else 0\n",
    "    print(f\"{model:25s}: {accuracy:.3f} ({improvement:+.1f}% improvement)\")\n",
    "\n",
    "print(f\"\\nBest Model: {max(results, key=results.get)}\")\n",
    "print(f\"Best Accuracy: {max(results.values()):.3f}\")\n",
    "print(f\"Total Improvement: {((max(results.values()) - 0.52) / 0.52) * 100:.1f}%\")\n"
   ]
  },
  {
   "cell_type": "code",
   "execution_count": 199,
   "id": "9ce5ebeb",
   "metadata": {},
   "outputs": [
    {
     "name": "stdout",
     "output_type": "stream",
     "text": [
      "Enter the following features (within valid ranges):\n"
     ]
    },
    {
     "ename": "ValueError",
     "evalue": "The feature names should match those that were passed during fit.\nFeature names seen at fit time, yet now missing:\n- amplitude_normalized\n- entropy_per_crossing\n- freq_spread\n- frequency_variance\n- peak_rms_ratio\n- ...\n",
     "output_type": "error",
     "traceback": [
      "\u001b[1;31m---------------------------------------------------------------------------\u001b[0m",
      "\u001b[1;31mValueError\u001b[0m                                Traceback (most recent call last)",
      "Cell \u001b[1;32mIn[199], line 2\u001b[0m\n\u001b[0;32m      1\u001b[0m \u001b[38;5;66;03m# Call function:\u001b[39;00m\n\u001b[1;32m----> 2\u001b[0m predict_knee_condition(\n\u001b[0;32m      3\u001b[0m     model\u001b[38;5;241m=\u001b[39mmulti_svm,\n\u001b[0;32m      4\u001b[0m     scaler\u001b[38;5;241m=\u001b[39mscaler,\n\u001b[0;32m      5\u001b[0m     le_knee\u001b[38;5;241m=\u001b[39mle_knee_condition,\n\u001b[0;32m      6\u001b[0m     le_severity\u001b[38;5;241m=\u001b[39mle_severity_level,\n\u001b[0;32m      7\u001b[0m     le_treatment\u001b[38;5;241m=\u001b[39mle_treatment_advised,\n\u001b[0;32m      8\u001b[0m     default_peak_frequency\u001b[38;5;241m=\u001b[39mmedian_peak\n\u001b[0;32m      9\u001b[0m )\n",
      "Cell \u001b[1;32mIn[197], line 30\u001b[0m, in \u001b[0;36mpredict_knee_condition\u001b[1;34m(model, scaler, le_knee, le_severity, le_treatment, default_peak_frequency)\u001b[0m\n\u001b[0;32m     26\u001b[0m feature_names \u001b[38;5;241m=\u001b[39m [\u001b[38;5;124m'\u001b[39m\u001b[38;5;124mrms_amplitude\u001b[39m\u001b[38;5;124m'\u001b[39m, \u001b[38;5;124m'\u001b[39m\u001b[38;5;124mpeak_frequency\u001b[39m\u001b[38;5;124m'\u001b[39m, \u001b[38;5;124m'\u001b[39m\u001b[38;5;124mspectral_entropy\u001b[39m\u001b[38;5;124m'\u001b[39m, \u001b[38;5;124m'\u001b[39m\u001b[38;5;124mzero_crossing_rate\u001b[39m\u001b[38;5;124m'\u001b[39m, \u001b[38;5;124m'\u001b[39m\u001b[38;5;124mmean_frequency\u001b[39m\u001b[38;5;124m'\u001b[39m]\n\u001b[0;32m     28\u001b[0m user_input \u001b[38;5;241m=\u001b[39m pd\u001b[38;5;241m.\u001b[39mDataFrame([[rms_amplitude, peak_frequency, spectral_entropy,\n\u001b[0;32m     29\u001b[0m                         zero_crossing_rate, mean_frequency]],columns\u001b[38;5;241m=\u001b[39mfeature_names)\n\u001b[1;32m---> 30\u001b[0m user_input_scaled \u001b[38;5;241m=\u001b[39m scaler\u001b[38;5;241m.\u001b[39mtransform(user_input)\n\u001b[0;32m     32\u001b[0m prediction \u001b[38;5;241m=\u001b[39m model\u001b[38;5;241m.\u001b[39mpredict(user_input_scaled)\n\u001b[0;32m     33\u001b[0m knee_condition \u001b[38;5;241m=\u001b[39m le_knee\u001b[38;5;241m.\u001b[39minverse_transform([prediction[\u001b[38;5;241m0\u001b[39m][\u001b[38;5;241m0\u001b[39m]])[\u001b[38;5;241m0\u001b[39m]\n",
      "File \u001b[1;32mc:\\Users\\ankit\\anaconda3\\Lib\\site-packages\\sklearn\\utils\\_set_output.py:140\u001b[0m, in \u001b[0;36m_wrap_method_output.<locals>.wrapped\u001b[1;34m(self, X, *args, **kwargs)\u001b[0m\n\u001b[0;32m    138\u001b[0m \u001b[38;5;129m@wraps\u001b[39m(f)\n\u001b[0;32m    139\u001b[0m \u001b[38;5;28;01mdef\u001b[39;00m \u001b[38;5;21mwrapped\u001b[39m(\u001b[38;5;28mself\u001b[39m, X, \u001b[38;5;241m*\u001b[39margs, \u001b[38;5;241m*\u001b[39m\u001b[38;5;241m*\u001b[39mkwargs):\n\u001b[1;32m--> 140\u001b[0m     data_to_wrap \u001b[38;5;241m=\u001b[39m f(\u001b[38;5;28mself\u001b[39m, X, \u001b[38;5;241m*\u001b[39margs, \u001b[38;5;241m*\u001b[39m\u001b[38;5;241m*\u001b[39mkwargs)\n\u001b[0;32m    141\u001b[0m     \u001b[38;5;28;01mif\u001b[39;00m \u001b[38;5;28misinstance\u001b[39m(data_to_wrap, \u001b[38;5;28mtuple\u001b[39m):\n\u001b[0;32m    142\u001b[0m         \u001b[38;5;66;03m# only wrap the first output for cross decomposition\u001b[39;00m\n\u001b[0;32m    143\u001b[0m         return_tuple \u001b[38;5;241m=\u001b[39m (\n\u001b[0;32m    144\u001b[0m             _wrap_data_with_container(method, data_to_wrap[\u001b[38;5;241m0\u001b[39m], X, \u001b[38;5;28mself\u001b[39m),\n\u001b[0;32m    145\u001b[0m             \u001b[38;5;241m*\u001b[39mdata_to_wrap[\u001b[38;5;241m1\u001b[39m:],\n\u001b[0;32m    146\u001b[0m         )\n",
      "File \u001b[1;32mc:\\Users\\ankit\\anaconda3\\Lib\\site-packages\\sklearn\\preprocessing\\_data.py:1004\u001b[0m, in \u001b[0;36mStandardScaler.transform\u001b[1;34m(self, X, copy)\u001b[0m\n\u001b[0;32m   1001\u001b[0m check_is_fitted(\u001b[38;5;28mself\u001b[39m)\n\u001b[0;32m   1003\u001b[0m copy \u001b[38;5;241m=\u001b[39m copy \u001b[38;5;28;01mif\u001b[39;00m copy \u001b[38;5;129;01mis\u001b[39;00m \u001b[38;5;129;01mnot\u001b[39;00m \u001b[38;5;28;01mNone\u001b[39;00m \u001b[38;5;28;01melse\u001b[39;00m \u001b[38;5;28mself\u001b[39m\u001b[38;5;241m.\u001b[39mcopy\n\u001b[1;32m-> 1004\u001b[0m X \u001b[38;5;241m=\u001b[39m \u001b[38;5;28mself\u001b[39m\u001b[38;5;241m.\u001b[39m_validate_data(\n\u001b[0;32m   1005\u001b[0m     X,\n\u001b[0;32m   1006\u001b[0m     reset\u001b[38;5;241m=\u001b[39m\u001b[38;5;28;01mFalse\u001b[39;00m,\n\u001b[0;32m   1007\u001b[0m     accept_sparse\u001b[38;5;241m=\u001b[39m\u001b[38;5;124m\"\u001b[39m\u001b[38;5;124mcsr\u001b[39m\u001b[38;5;124m\"\u001b[39m,\n\u001b[0;32m   1008\u001b[0m     copy\u001b[38;5;241m=\u001b[39mcopy,\n\u001b[0;32m   1009\u001b[0m     dtype\u001b[38;5;241m=\u001b[39mFLOAT_DTYPES,\n\u001b[0;32m   1010\u001b[0m     force_all_finite\u001b[38;5;241m=\u001b[39m\u001b[38;5;124m\"\u001b[39m\u001b[38;5;124mallow-nan\u001b[39m\u001b[38;5;124m\"\u001b[39m,\n\u001b[0;32m   1011\u001b[0m )\n\u001b[0;32m   1013\u001b[0m \u001b[38;5;28;01mif\u001b[39;00m sparse\u001b[38;5;241m.\u001b[39missparse(X):\n\u001b[0;32m   1014\u001b[0m     \u001b[38;5;28;01mif\u001b[39;00m \u001b[38;5;28mself\u001b[39m\u001b[38;5;241m.\u001b[39mwith_mean:\n",
      "File \u001b[1;32mc:\\Users\\ankit\\anaconda3\\Lib\\site-packages\\sklearn\\base.py:579\u001b[0m, in \u001b[0;36mBaseEstimator._validate_data\u001b[1;34m(self, X, y, reset, validate_separately, cast_to_ndarray, **check_params)\u001b[0m\n\u001b[0;32m    508\u001b[0m \u001b[38;5;28;01mdef\u001b[39;00m \u001b[38;5;21m_validate_data\u001b[39m(\n\u001b[0;32m    509\u001b[0m     \u001b[38;5;28mself\u001b[39m,\n\u001b[0;32m    510\u001b[0m     X\u001b[38;5;241m=\u001b[39m\u001b[38;5;124m\"\u001b[39m\u001b[38;5;124mno_validation\u001b[39m\u001b[38;5;124m\"\u001b[39m,\n\u001b[1;32m   (...)\u001b[0m\n\u001b[0;32m    515\u001b[0m     \u001b[38;5;241m*\u001b[39m\u001b[38;5;241m*\u001b[39mcheck_params,\n\u001b[0;32m    516\u001b[0m ):\n\u001b[0;32m    517\u001b[0m \u001b[38;5;250m    \u001b[39m\u001b[38;5;124;03m\"\"\"Validate input data and set or check the `n_features_in_` attribute.\u001b[39;00m\n\u001b[0;32m    518\u001b[0m \n\u001b[0;32m    519\u001b[0m \u001b[38;5;124;03m    Parameters\u001b[39;00m\n\u001b[1;32m   (...)\u001b[0m\n\u001b[0;32m    577\u001b[0m \u001b[38;5;124;03m        validated.\u001b[39;00m\n\u001b[0;32m    578\u001b[0m \u001b[38;5;124;03m    \"\"\"\u001b[39;00m\n\u001b[1;32m--> 579\u001b[0m     \u001b[38;5;28mself\u001b[39m\u001b[38;5;241m.\u001b[39m_check_feature_names(X, reset\u001b[38;5;241m=\u001b[39mreset)\n\u001b[0;32m    581\u001b[0m     \u001b[38;5;28;01mif\u001b[39;00m y \u001b[38;5;129;01mis\u001b[39;00m \u001b[38;5;28;01mNone\u001b[39;00m \u001b[38;5;129;01mand\u001b[39;00m \u001b[38;5;28mself\u001b[39m\u001b[38;5;241m.\u001b[39m_get_tags()[\u001b[38;5;124m\"\u001b[39m\u001b[38;5;124mrequires_y\u001b[39m\u001b[38;5;124m\"\u001b[39m]:\n\u001b[0;32m    582\u001b[0m         \u001b[38;5;28;01mraise\u001b[39;00m \u001b[38;5;167;01mValueError\u001b[39;00m(\n\u001b[0;32m    583\u001b[0m             \u001b[38;5;124mf\u001b[39m\u001b[38;5;124m\"\u001b[39m\u001b[38;5;124mThis \u001b[39m\u001b[38;5;132;01m{\u001b[39;00m\u001b[38;5;28mself\u001b[39m\u001b[38;5;241m.\u001b[39m\u001b[38;5;18m__class__\u001b[39m\u001b[38;5;241m.\u001b[39m\u001b[38;5;18m__name__\u001b[39m\u001b[38;5;132;01m}\u001b[39;00m\u001b[38;5;124m estimator \u001b[39m\u001b[38;5;124m\"\u001b[39m\n\u001b[0;32m    584\u001b[0m             \u001b[38;5;124m\"\u001b[39m\u001b[38;5;124mrequires y to be passed, but the target y is None.\u001b[39m\u001b[38;5;124m\"\u001b[39m\n\u001b[0;32m    585\u001b[0m         )\n",
      "File \u001b[1;32mc:\\Users\\ankit\\anaconda3\\Lib\\site-packages\\sklearn\\base.py:506\u001b[0m, in \u001b[0;36mBaseEstimator._check_feature_names\u001b[1;34m(self, X, reset)\u001b[0m\n\u001b[0;32m    501\u001b[0m \u001b[38;5;28;01mif\u001b[39;00m \u001b[38;5;129;01mnot\u001b[39;00m missing_names \u001b[38;5;129;01mand\u001b[39;00m \u001b[38;5;129;01mnot\u001b[39;00m unexpected_names:\n\u001b[0;32m    502\u001b[0m     message \u001b[38;5;241m+\u001b[39m\u001b[38;5;241m=\u001b[39m (\n\u001b[0;32m    503\u001b[0m         \u001b[38;5;124m\"\u001b[39m\u001b[38;5;124mFeature names must be in the same order as they were in fit.\u001b[39m\u001b[38;5;130;01m\\n\u001b[39;00m\u001b[38;5;124m\"\u001b[39m\n\u001b[0;32m    504\u001b[0m     )\n\u001b[1;32m--> 506\u001b[0m \u001b[38;5;28;01mraise\u001b[39;00m \u001b[38;5;167;01mValueError\u001b[39;00m(message)\n",
      "\u001b[1;31mValueError\u001b[0m: The feature names should match those that were passed during fit.\nFeature names seen at fit time, yet now missing:\n- amplitude_normalized\n- entropy_per_crossing\n- freq_spread\n- frequency_variance\n- peak_rms_ratio\n- ...\n"
     ]
    }
   ],
   "source": [
    "# Call function:\n",
    "predict_knee_condition(\n",
    "    model=multi_svm,\n",
    "    scaler=scaler,\n",
    "    le_knee=le_knee_condition,\n",
    "    le_severity=le_severity_level,\n",
    "    le_treatment=le_treatment_advised,\n",
    "    default_peak_frequency=median_peak\n",
    ") \n"
   ]
  },
  {
   "cell_type": "code",
   "execution_count": null,
   "id": "c342bba1-1b9c-4ba4-88f8-56f27a4139f0",
   "metadata": {},
   "outputs": [],
   "source": []
  }
 ],
 "metadata": {
  "kernelspec": {
   "display_name": "base",
   "language": "python",
   "name": "python3"
  },
  "language_info": {
   "codemirror_mode": {
    "name": "ipython",
    "version": 3
   },
   "file_extension": ".py",
   "mimetype": "text/x-python",
   "name": "python",
   "nbconvert_exporter": "python",
   "pygments_lexer": "ipython3",
   "version": "3.11.5"
  }
 },
 "nbformat": 4,
 "nbformat_minor": 5
}
