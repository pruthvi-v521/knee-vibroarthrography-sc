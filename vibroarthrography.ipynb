{
 "cells": [
  {
   "cell_type": "code",
   "execution_count": 1,
   "id": "2356c852",
   "metadata": {},
   "outputs": [],
   "source": [
    "import pandas as pd\n",
    "import numpy as np\n",
    "import matplotlib.pyplot as plt\n",
    "import seaborn as sns"
   ]
  },
  {
   "cell_type": "code",
   "execution_count": 2,
   "id": "e3e517d2",
   "metadata": {},
   "outputs": [],
   "source": [
    "df = pd.read_csv(\"vag_dataset.csv\")"
   ]
  },
  {
   "cell_type": "code",
   "execution_count": 3,
   "id": "0c96f996",
   "metadata": {},
   "outputs": [
    {
     "name": "stdout",
     "output_type": "stream",
     "text": [
      "<class 'pandas.core.frame.DataFrame'>\n",
      "RangeIndex: 2500 entries, 0 to 2499\n",
      "Data columns (total 8 columns):\n",
      " #   Column              Non-Null Count  Dtype  \n",
      "---  ------              --------------  -----  \n",
      " 0   knee_condition      2500 non-null   object \n",
      " 1   severity_level      1705 non-null   object \n",
      " 2   treatment_advised   2500 non-null   object \n",
      " 3   rms_amplitude       2500 non-null   float64\n",
      " 4   peak_frequency      2500 non-null   float64\n",
      " 5   spectral_entropy    2500 non-null   float64\n",
      " 6   zero_crossing_rate  2500 non-null   float64\n",
      " 7   mean_frequency      2500 non-null   float64\n",
      "dtypes: float64(5), object(3)\n",
      "memory usage: 156.4+ KB\n"
     ]
    }
   ],
   "source": [
    "#structure of the dataset\n",
    "df.info()\n"
   ]
  },
  {
   "cell_type": "code",
   "execution_count": 4,
   "id": "3141b18a",
   "metadata": {},
   "outputs": [
    {
     "data": {
      "text/html": [
       "<div>\n",
       "<style scoped>\n",
       "    .dataframe tbody tr th:only-of-type {\n",
       "        vertical-align: middle;\n",
       "    }\n",
       "\n",
       "    .dataframe tbody tr th {\n",
       "        vertical-align: top;\n",
       "    }\n",
       "\n",
       "    .dataframe thead th {\n",
       "        text-align: right;\n",
       "    }\n",
       "</style>\n",
       "<table border=\"1\" class=\"dataframe\">\n",
       "  <thead>\n",
       "    <tr style=\"text-align: right;\">\n",
       "      <th></th>\n",
       "      <th>knee_condition</th>\n",
       "      <th>severity_level</th>\n",
       "      <th>treatment_advised</th>\n",
       "      <th>rms_amplitude</th>\n",
       "      <th>peak_frequency</th>\n",
       "      <th>spectral_entropy</th>\n",
       "      <th>zero_crossing_rate</th>\n",
       "      <th>mean_frequency</th>\n",
       "    </tr>\n",
       "  </thead>\n",
       "  <tbody>\n",
       "    <tr>\n",
       "      <th>0</th>\n",
       "      <td>normal</td>\n",
       "      <td>NaN</td>\n",
       "      <td>No Treatment</td>\n",
       "      <td>1.051421</td>\n",
       "      <td>20.0</td>\n",
       "      <td>-1799.219746</td>\n",
       "      <td>0.001</td>\n",
       "      <td>39.864485</td>\n",
       "    </tr>\n",
       "    <tr>\n",
       "      <th>1</th>\n",
       "      <td>normal</td>\n",
       "      <td>NaN</td>\n",
       "      <td>No Treatment</td>\n",
       "      <td>1.071817</td>\n",
       "      <td>20.0</td>\n",
       "      <td>-2010.827330</td>\n",
       "      <td>0.000</td>\n",
       "      <td>40.652874</td>\n",
       "    </tr>\n",
       "    <tr>\n",
       "      <th>2</th>\n",
       "      <td>osteoarthritis</td>\n",
       "      <td>Mild</td>\n",
       "      <td>Physiotherapy</td>\n",
       "      <td>1.098748</td>\n",
       "      <td>20.0</td>\n",
       "      <td>-2172.177329</td>\n",
       "      <td>0.000</td>\n",
       "      <td>39.961072</td>\n",
       "    </tr>\n",
       "    <tr>\n",
       "      <th>3</th>\n",
       "      <td>osteoarthritis</td>\n",
       "      <td>Severe</td>\n",
       "      <td>Surgery</td>\n",
       "      <td>1.063046</td>\n",
       "      <td>20.0</td>\n",
       "      <td>-1915.991388</td>\n",
       "      <td>0.000</td>\n",
       "      <td>39.860160</td>\n",
       "    </tr>\n",
       "    <tr>\n",
       "      <th>4</th>\n",
       "      <td>ligament_injury</td>\n",
       "      <td>Severe</td>\n",
       "      <td>Surgery</td>\n",
       "      <td>1.222318</td>\n",
       "      <td>20.0</td>\n",
       "      <td>-3331.987202</td>\n",
       "      <td>0.001</td>\n",
       "      <td>44.747680</td>\n",
       "    </tr>\n",
       "  </tbody>\n",
       "</table>\n",
       "</div>"
      ],
      "text/plain": [
       "    knee_condition severity_level treatment_advised  rms_amplitude  \\\n",
       "0           normal            NaN      No Treatment       1.051421   \n",
       "1           normal            NaN      No Treatment       1.071817   \n",
       "2   osteoarthritis           Mild     Physiotherapy       1.098748   \n",
       "3   osteoarthritis         Severe           Surgery       1.063046   \n",
       "4  ligament_injury         Severe           Surgery       1.222318   \n",
       "\n",
       "   peak_frequency  spectral_entropy  zero_crossing_rate  mean_frequency  \n",
       "0            20.0      -1799.219746               0.001       39.864485  \n",
       "1            20.0      -2010.827330               0.000       40.652874  \n",
       "2            20.0      -2172.177329               0.000       39.961072  \n",
       "3            20.0      -1915.991388               0.000       39.860160  \n",
       "4            20.0      -3331.987202               0.001       44.747680  "
      ]
     },
     "execution_count": 4,
     "metadata": {},
     "output_type": "execute_result"
    }
   ],
   "source": [
    "#first few rows\n",
    "df.head()"
   ]
  },
  {
   "cell_type": "code",
   "execution_count": 5,
   "id": "548b572f",
   "metadata": {},
   "outputs": [
    {
     "name": "stdout",
     "output_type": "stream",
     "text": [
      "Number of duplicate rows: 0\n"
     ]
    }
   ],
   "source": [
    "#duplicate row check\n",
    "duplicate_rows = df[df.duplicated()]\n",
    "print(f\"Number of duplicate rows: {duplicate_rows.shape[0]}\")\n"
   ]
  },
  {
   "cell_type": "code",
   "execution_count": 6,
   "id": "0a9cb8b3",
   "metadata": {},
   "outputs": [],
   "source": [
    "df = df.drop_duplicates()"
   ]
  },
  {
   "cell_type": "code",
   "execution_count": 7,
   "id": "eac71cdc",
   "metadata": {},
   "outputs": [
    {
     "data": {
      "text/plain": [
       "knee_condition          0\n",
       "severity_level        795\n",
       "treatment_advised       0\n",
       "rms_amplitude           0\n",
       "peak_frequency          0\n",
       "spectral_entropy        0\n",
       "zero_crossing_rate      0\n",
       "mean_frequency          0\n",
       "dtype: int64"
      ]
     },
     "execution_count": 7,
     "metadata": {},
     "output_type": "execute_result"
    }
   ],
   "source": [
    "#check for missing value\n",
    "df.isnull().sum()"
   ]
  },
  {
   "cell_type": "code",
   "execution_count": 8,
   "id": "fbf63fd9",
   "metadata": {},
   "outputs": [
    {
     "data": {
      "text/html": [
       "<div>\n",
       "<style scoped>\n",
       "    .dataframe tbody tr th:only-of-type {\n",
       "        vertical-align: middle;\n",
       "    }\n",
       "\n",
       "    .dataframe tbody tr th {\n",
       "        vertical-align: top;\n",
       "    }\n",
       "\n",
       "    .dataframe thead th {\n",
       "        text-align: right;\n",
       "    }\n",
       "</style>\n",
       "<table border=\"1\" class=\"dataframe\">\n",
       "  <thead>\n",
       "    <tr style=\"text-align: right;\">\n",
       "      <th></th>\n",
       "      <th>rms_amplitude</th>\n",
       "      <th>peak_frequency</th>\n",
       "      <th>spectral_entropy</th>\n",
       "      <th>zero_crossing_rate</th>\n",
       "      <th>mean_frequency</th>\n",
       "    </tr>\n",
       "  </thead>\n",
       "  <tbody>\n",
       "    <tr>\n",
       "      <th>count</th>\n",
       "      <td>2500.000000</td>\n",
       "      <td>2500.000000</td>\n",
       "      <td>2500.000000</td>\n",
       "      <td>2500.000000</td>\n",
       "      <td>2500.000000</td>\n",
       "    </tr>\n",
       "    <tr>\n",
       "      <th>mean</th>\n",
       "      <td>1.118481</td>\n",
       "      <td>20.384000</td>\n",
       "      <td>-2412.251714</td>\n",
       "      <td>-0.000018</td>\n",
       "      <td>41.949641</td>\n",
       "    </tr>\n",
       "    <tr>\n",
       "      <th>std</th>\n",
       "      <td>0.067338</td>\n",
       "      <td>4.785573</td>\n",
       "      <td>610.620891</td>\n",
       "      <td>0.000717</td>\n",
       "      <td>2.453461</td>\n",
       "    </tr>\n",
       "    <tr>\n",
       "      <th>min</th>\n",
       "      <td>1.003640</td>\n",
       "      <td>20.000000</td>\n",
       "      <td>-3915.364528</td>\n",
       "      <td>-0.001000</td>\n",
       "      <td>37.910850</td>\n",
       "    </tr>\n",
       "    <tr>\n",
       "      <th>25%</th>\n",
       "      <td>1.065577</td>\n",
       "      <td>20.000000</td>\n",
       "      <td>-3094.827471</td>\n",
       "      <td>-0.001000</td>\n",
       "      <td>40.038446</td>\n",
       "    </tr>\n",
       "    <tr>\n",
       "      <th>50%</th>\n",
       "      <td>1.086830</td>\n",
       "      <td>20.000000</td>\n",
       "      <td>-2112.249370</td>\n",
       "      <td>0.000000</td>\n",
       "      <td>40.729064</td>\n",
       "    </tr>\n",
       "    <tr>\n",
       "      <th>75%</th>\n",
       "      <td>1.195361</td>\n",
       "      <td>20.000000</td>\n",
       "      <td>-1930.338196</td>\n",
       "      <td>0.000000</td>\n",
       "      <td>44.743906</td>\n",
       "    </tr>\n",
       "    <tr>\n",
       "      <th>max</th>\n",
       "      <td>1.264899</td>\n",
       "      <td>80.000000</td>\n",
       "      <td>-1453.671345</td>\n",
       "      <td>0.001000</td>\n",
       "      <td>47.607962</td>\n",
       "    </tr>\n",
       "  </tbody>\n",
       "</table>\n",
       "</div>"
      ],
      "text/plain": [
       "       rms_amplitude  peak_frequency  spectral_entropy  zero_crossing_rate  \\\n",
       "count    2500.000000     2500.000000       2500.000000         2500.000000   \n",
       "mean        1.118481       20.384000      -2412.251714           -0.000018   \n",
       "std         0.067338        4.785573        610.620891            0.000717   \n",
       "min         1.003640       20.000000      -3915.364528           -0.001000   \n",
       "25%         1.065577       20.000000      -3094.827471           -0.001000   \n",
       "50%         1.086830       20.000000      -2112.249370            0.000000   \n",
       "75%         1.195361       20.000000      -1930.338196            0.000000   \n",
       "max         1.264899       80.000000      -1453.671345            0.001000   \n",
       "\n",
       "       mean_frequency  \n",
       "count     2500.000000  \n",
       "mean        41.949641  \n",
       "std          2.453461  \n",
       "min         37.910850  \n",
       "25%         40.038446  \n",
       "50%         40.729064  \n",
       "75%         44.743906  \n",
       "max         47.607962  "
      ]
     },
     "execution_count": 8,
     "metadata": {},
     "output_type": "execute_result"
    }
   ],
   "source": [
    "#basic status of numerical values\n",
    "df.describe()"
   ]
  },
  {
   "cell_type": "code",
   "execution_count": 9,
   "id": "aab4f8c1",
   "metadata": {},
   "outputs": [
    {
     "name": "stdout",
     "output_type": "stream",
     "text": [
      "rms_amplitude: min = 1.0036403934841054, max = 1.264898646730383\n",
      "peak_frequency: min = 20.0, max = 80.0\n",
      "spectral_entropy: min = -3915.3645278958447, max = -1453.6713448879295\n",
      "zero_crossing_rate: min = -0.001, max = 0.001\n"
     ]
    }
   ],
   "source": [
    "#check min and max feature\n",
    "for column in ['rms_amplitude', 'peak_frequency', 'spectral_entropy', 'zero_crossing_rate']:\n",
    "    print(f\"{column}: min = {df[column].min()}, max = {df[column].max()}\")\n"
   ]
  },
  {
   "cell_type": "code",
   "execution_count": 10,
   "id": "ef5e6b86",
   "metadata": {},
   "outputs": [
    {
     "name": "stdout",
     "output_type": "stream",
     "text": [
      "['normal' 'osteoarthritis' 'ligament_injury']\n",
      "[nan 'Mild' 'Severe' 'Moderate']\n",
      "['No Treatment' 'Physiotherapy' 'Surgery']\n"
     ]
    }
   ],
   "source": [
    "#Check Unique Values in Categorical Column\n",
    "print(df['knee_condition'].unique())\n",
    "print(df['severity_level'].unique())\n",
    "print(df['treatment_advised'].unique())"
   ]
  },
  {
   "cell_type": "code",
   "execution_count": 11,
   "id": "ebed1fd2",
   "metadata": {},
   "outputs": [
    {
     "name": "stdout",
     "output_type": "stream",
     "text": [
      "knee_condition\n",
      "ligament_injury    871\n",
      "osteoarthritis     834\n",
      "normal             795\n",
      "Name: count, dtype: int64\n",
      "severity_level\n",
      "Severe      721\n",
      "Moderate    713\n",
      "Mild        271\n",
      "Name: count, dtype: int64\n",
      "treatment_advised\n",
      "Surgery          1296\n",
      "No Treatment      795\n",
      "Physiotherapy     409\n",
      "Name: count, dtype: int64\n"
     ]
    }
   ],
   "source": [
    "print(df['knee_condition'].value_counts())\n",
    "print(df['severity_level'].value_counts())\n",
    "print(df['treatment_advised'].value_counts())"
   ]
  },
  {
   "cell_type": "code",
   "execution_count": 12,
   "id": "7fee3380",
   "metadata": {},
   "outputs": [
    {
     "name": "stdout",
     "output_type": "stream",
     "text": [
      "     knee_condition severity_level\n",
      "0            normal            NaN\n",
      "1            normal            NaN\n",
      "6            normal            NaN\n",
      "9            normal            NaN\n",
      "12           normal            NaN\n",
      "...             ...            ...\n",
      "2486         normal            NaN\n",
      "2492         normal            NaN\n",
      "2494         normal            NaN\n",
      "2496         normal            NaN\n",
      "2498         normal            NaN\n",
      "\n",
      "[795 rows x 2 columns]\n"
     ]
    }
   ],
   "source": [
    "nan_severity_rows = df[df['severity_level'].isna()][['knee_condition', 'severity_level']]\n",
    "print(nan_severity_rows)"
   ]
  },
  {
   "cell_type": "code",
   "execution_count": 13,
   "id": "8456cc2f",
   "metadata": {},
   "outputs": [
    {
     "name": "stdout",
     "output_type": "stream",
     "text": [
      "Empty DataFrame\n",
      "Columns: [knee_condition, severity_level]\n",
      "Index: []\n"
     ]
    }
   ],
   "source": [
    "filtered_rows = df[df['severity_level'].isna() & (df['knee_condition'] != 'normal')]\n",
    "print(filtered_rows[['knee_condition', 'severity_level']])"
   ]
  },
  {
   "cell_type": "code",
   "execution_count": 14,
   "id": "0a72127d",
   "metadata": {},
   "outputs": [],
   "source": [
    "#Fill with \"Unknown\"\n",
    "df['severity_level'] = df['severity_level'].fillna('None')"
   ]
  },
  {
   "cell_type": "code",
   "execution_count": 15,
   "id": "c0c2b565",
   "metadata": {},
   "outputs": [
    {
     "data": {
      "image/png": "[encoded data removed]",
      "text/plain": [
       "<Figure size 600x400 with 1 Axes>"
      ]
     },
     "metadata": {},
     "output_type": "display_data"
    },
    {
     "data": {
      "image/png": "[encoded data removed]",
      "text/plain": [
       "<Figure size 600x400 with 1 Axes>"
      ]
     },
     "metadata": {},
     "output_type": "display_data"
    },
    {
     "data": {
      "image/png": "[encoded data removed]",
      "text/plain": [
       "<Figure size 600x400 with 1 Axes>"
      ]
     },
     "metadata": {},
     "output_type": "display_data"
    },
    {
     "data": {
      "image/png": "[encoded data removed]",
      "text/plain": [
       "<Figure size 600x400 with 1 Axes>"
      ]
     },
     "metadata": {},
     "output_type": "display_data"
    },
    {
     "data": {
      "image/png": "[encoded data removed]",
      "text/plain": [
       "<Figure size 600x400 with 1 Axes>"
      ]
     },
     "metadata": {},
     "output_type": "display_data"
    }
   ],
   "source": [
    "numeric_features = ['rms_amplitude', 'peak_frequency', 'spectral_entropy', 'zero_crossing_rate', 'mean_frequency']\n",
    "\n",
    "for col in numeric_features:\n",
    "    plt.figure(figsize=(6,4))\n",
    "    sns.boxplot(x=df[col])\n",
    "    plt.title(f'Boxplot of {col}')\n",
    "    plt.show()"
   ]
  },
  {
   "cell_type": "code",
   "execution_count": 16,
   "id": "fa774f56",
   "metadata": {},
   "outputs": [],
   "source": [
    "#using label encoder to convert categorical values to numerical values\n",
    "from sklearn.preprocessing import LabelEncoder\n",
    "\n",
    "le_knee_condition = LabelEncoder()\n",
    "df['knee_condition_encoded'] = le_knee_condition.fit_transform(df['knee_condition'])"
   ]
  },
  {
   "cell_type": "code",
   "execution_count": 17,
   "id": "ee7b45b1",
   "metadata": {},
   "outputs": [],
   "source": [
    "le_severity_level = LabelEncoder()\n",
    "df['severity_level_encoded'] = le_severity_level.fit_transform(df['severity_level'])"
   ]
  },
  {
   "cell_type": "code",
   "execution_count": 18,
   "id": "95f328d5",
   "metadata": {},
   "outputs": [],
   "source": [
    "le_treatment_advised = LabelEncoder()\n",
    "df['treatment_advised_encoded'] = le_treatment_advised.fit_transform(df['treatment_advised'])"
   ]
  },
  {
   "cell_type": "code",
   "execution_count": 19,
   "id": "9f62ea5f",
   "metadata": {},
   "outputs": [
    {
     "name": "stdout",
     "output_type": "stream",
     "text": [
      "0       0\n",
      "1       0\n",
      "2       1\n",
      "3       2\n",
      "4       2\n",
      "       ..\n",
      "2495    2\n",
      "2496    0\n",
      "2497    2\n",
      "2498    0\n",
      "2499    2\n",
      "Name: treatment_advised_encoded, Length: 2500, dtype: int32\n"
     ]
    }
   ],
   "source": [
    "print(df['treatment_advised_encoded'])"
   ]
  },
  {
   "cell_type": "code",
   "execution_count": 20,
   "id": "c73ba89a",
   "metadata": {},
   "outputs": [
    {
     "name": "stdout",
     "output_type": "stream",
     "text": [
      "Number of outliers in rms_amplitude: 0\n",
      "Empty DataFrame\n",
      "Columns: [knee_condition, severity_level, treatment_advised, rms_amplitude, peak_frequency, spectral_entropy, zero_crossing_rate, mean_frequency, knee_condition_encoded, severity_level_encoded, treatment_advised_encoded]\n",
      "Index: []\n"
     ]
    }
   ],
   "source": [
    "#using z score to remove outliers\n",
    "# Z-scores for one column\n",
    "from scipy import stats\n",
    "\n",
    "z_scores = np.abs(stats.zscore(df[\"rms_amplitude\"]))\n",
    "\n",
    "# Boolean mask for outliers\n",
    "outlier_mask = z_scores > 3\n",
    "\n",
    "# Number of outliers\n",
    "num_outliers = outlier_mask.sum()\n",
    "\n",
    "print(f\"Number of outliers in rms_amplitude: {num_outliers}\")\n",
    "\n",
    "# Optional: see which rows are outliers\n",
    "df_outliers = df[outlier_mask]\n",
    "print(df_outliers)\n",
    "\n"
   ]
  },
  {
   "cell_type": "code",
   "execution_count": 21,
   "id": "654c9a9a",
   "metadata": {},
   "outputs": [
    {
     "name": "stdout",
     "output_type": "stream",
     "text": [
      "Outliers per feature (Z > 3):\n",
      "rms_amplitude: 0\n",
      "peak_frequency: 16\n",
      "spectral_entropy: 0\n",
      "zero_crossing_rate: 0\n",
      "mean_frequency: 0\n"
     ]
    }
   ],
   "source": [
    "from scipy import stats\n",
    "import numpy as np\n",
    "\n",
    "numeric_features = ['rms_amplitude', 'peak_frequency', 'spectral_entropy', 'zero_crossing_rate', 'mean_frequency']\n",
    "\n",
    "# Compute Z-scores for all numeric features → this will return a DataFrame!\n",
    "z_scores = np.abs(stats.zscore(df[numeric_features]))\n",
    "\n",
    "# Initialize dictionary to store outlier counts\n",
    "outlier_counts = {}\n",
    "\n",
    "# Loop through each column by name (no need to use i)\n",
    "for col in numeric_features:\n",
    "    num_outliers = (z_scores[col] > 3).sum()\n",
    "    outlier_counts[col] = num_outliers\n",
    "\n",
    "# Print outlier counts\n",
    "print(\"Outliers per feature (Z > 3):\")\n",
    "for col, count in outlier_counts.items():\n",
    "    print(f\"{col}: {count}\")\n"
   ]
  },
  {
   "cell_type": "code",
   "execution_count": 22,
   "id": "8f74b924",
   "metadata": {},
   "outputs": [
    {
     "name": "stdout",
     "output_type": "stream",
     "text": [
      "      peak_frequency\n",
      "81              80.0\n",
      "358             80.0\n",
      "399             80.0\n",
      "580             80.0\n",
      "712             80.0\n",
      "718             80.0\n",
      "1049            80.0\n",
      "1066            80.0\n",
      "1256            80.0\n",
      "1549            80.0\n",
      "1864            80.0\n",
      "2023            80.0\n",
      "2033            80.0\n",
      "2094            80.0\n",
      "2113            80.0\n",
      "2161            80.0\n"
     ]
    }
   ],
   "source": [
    "from scipy import stats\n",
    "import numpy as np\n",
    "\n",
    "# Calculate Z-scores for peak_frequency\n",
    "z_scores_peak = np.abs(stats.zscore(df['peak_frequency']))\n",
    "\n",
    "# Show rows where Z > 3 (commonly considered outliers)\n",
    "extreme_rows = df[z_scores_peak > 3]\n",
    "print(extreme_rows[['peak_frequency']])\n"
   ]
  },
  {
   "cell_type": "code",
   "execution_count": 23,
   "id": "b4c0bfe8",
   "metadata": {},
   "outputs": [],
   "source": [
    "# Compute median of valid (non-outlier) peak_frequency values\n",
    "valid_peak_freq = df[df['peak_frequency'] < 80.0]['peak_frequency']\n",
    "median_peak = valid_peak_freq.median()\n",
    "\n",
    "# Replace outliers (== 80.0) with median\n",
    "df.loc[df['peak_frequency'] == 80.0, 'peak_frequency'] = median_peak\n"
   ]
  },
  {
   "cell_type": "code",
   "execution_count": 24,
   "id": "95a61939",
   "metadata": {},
   "outputs": [
    {
     "name": "stdout",
     "output_type": "stream",
     "text": [
      "      peak_frequency\n",
      "0               20.0\n",
      "1               20.0\n",
      "2               20.0\n",
      "3               20.0\n",
      "4               20.0\n",
      "...              ...\n",
      "2495            20.0\n",
      "2496            20.0\n",
      "2497            20.0\n",
      "2498            20.0\n",
      "2499            20.0\n",
      "\n",
      "[2500 rows x 1 columns]\n"
     ]
    }
   ],
   "source": [
    " # replaced all 80.0 values with median_peak\n",
    "changed_rows = df.loc[df['peak_frequency'] == median_peak]\n",
    "\n",
    "#  checking indices\n",
    "print(changed_rows[['peak_frequency']])"
   ]
  },
  {
   "cell_type": "code",
   "execution_count": 25,
   "id": "fb861090",
   "metadata": {},
   "outputs": [
    {
     "name": "stdout",
     "output_type": "stream",
     "text": [
      "knee_condition               0\n",
      "severity_level               0\n",
      "treatment_advised            0\n",
      "rms_amplitude                0\n",
      "peak_frequency               0\n",
      "spectral_entropy             0\n",
      "zero_crossing_rate           0\n",
      "mean_frequency               0\n",
      "knee_condition_encoded       0\n",
      "severity_level_encoded       0\n",
      "treatment_advised_encoded    0\n",
      "dtype: int64\n",
      "knee_condition               0\n",
      "severity_level               0\n",
      "treatment_advised            0\n",
      "rms_amplitude                0\n",
      "peak_frequency               0\n",
      "spectral_entropy             0\n",
      "zero_crossing_rate           0\n",
      "mean_frequency               0\n",
      "knee_condition_encoded       0\n",
      "severity_level_encoded       0\n",
      "treatment_advised_encoded    0\n",
      "dtype: int64\n"
     ]
    }
   ],
   "source": [
    "# Check missing values again\n",
    "print(df.isnull().sum())\n",
    "\n",
    "# Fill missing in 'severity_level' with mode\n",
    "#mode_value = df['severity_level'].mode()[0]\n",
    "#df['severity_level'].fillna(mode_value, inplace=True)\n",
    "\n",
    "# Confirm no missing now\n",
    "print(df.isnull().sum())\n"
   ]
  },
  {
   "cell_type": "code",
   "execution_count": 26,
   "id": "00f0ede9",
   "metadata": {},
   "outputs": [
    {
     "name": "stdout",
     "output_type": "stream",
     "text": [
      "0           None\n",
      "1           None\n",
      "2           Mild\n",
      "3         Severe\n",
      "4         Severe\n",
      "          ...   \n",
      "2495    Moderate\n",
      "2496        None\n",
      "2497    Moderate\n",
      "2498        None\n",
      "2499    Moderate\n",
      "Name: severity_level, Length: 2500, dtype: object\n"
     ]
    }
   ],
   "source": [
    "print(df['severity_level'])\n"
   ]
  },
  {
   "cell_type": "code",
   "execution_count": 27,
   "id": "f3249c8c",
   "metadata": {},
   "outputs": [
    {
     "data": {
      "text/html": [
       "<div>\n",
       "<style scoped>\n",
       "    .dataframe tbody tr th:only-of-type {\n",
       "        vertical-align: middle;\n",
       "    }\n",
       "\n",
       "    .dataframe tbody tr th {\n",
       "        vertical-align: top;\n",
       "    }\n",
       "\n",
       "    .dataframe thead th {\n",
       "        text-align: right;\n",
       "    }\n",
       "</style>\n",
       "<table border=\"1\" class=\"dataframe\">\n",
       "  <thead>\n",
       "    <tr style=\"text-align: right;\">\n",
       "      <th></th>\n",
       "      <th>rms_amplitude</th>\n",
       "      <th>peak_frequency</th>\n",
       "      <th>spectral_entropy</th>\n",
       "      <th>zero_crossing_rate</th>\n",
       "      <th>mean_frequency</th>\n",
       "    </tr>\n",
       "  </thead>\n",
       "  <tbody>\n",
       "    <tr>\n",
       "      <th>count</th>\n",
       "      <td>2.500000e+03</td>\n",
       "      <td>2500.0</td>\n",
       "      <td>2.500000e+03</td>\n",
       "      <td>2.500000e+03</td>\n",
       "      <td>2.500000e+03</td>\n",
       "    </tr>\n",
       "    <tr>\n",
       "      <th>mean</th>\n",
       "      <td>-1.215028e-15</td>\n",
       "      <td>0.0</td>\n",
       "      <td>5.826450e-17</td>\n",
       "      <td>5.684342e-18</td>\n",
       "      <td>2.663114e-15</td>\n",
       "    </tr>\n",
       "    <tr>\n",
       "      <th>std</th>\n",
       "      <td>1.000200e+00</td>\n",
       "      <td>0.0</td>\n",
       "      <td>1.000200e+00</td>\n",
       "      <td>1.000200e+00</td>\n",
       "      <td>1.000200e+00</td>\n",
       "    </tr>\n",
       "    <tr>\n",
       "      <th>min</th>\n",
       "      <td>-1.705760e+00</td>\n",
       "      <td>0.0</td>\n",
       "      <td>-2.462106e+00</td>\n",
       "      <td>-1.369080e+00</td>\n",
       "      <td>-1.646490e+00</td>\n",
       "    </tr>\n",
       "    <tr>\n",
       "      <th>25%</th>\n",
       "      <td>-7.857923e-01</td>\n",
       "      <td>0.0</td>\n",
       "      <td>-1.118062e+00</td>\n",
       "      <td>-1.369080e+00</td>\n",
       "      <td>-7.791348e-01</td>\n",
       "    </tr>\n",
       "    <tr>\n",
       "      <th>50%</th>\n",
       "      <td>-4.701223e-01</td>\n",
       "      <td>0.0</td>\n",
       "      <td>4.914053e-01</td>\n",
       "      <td>2.509516e-02</td>\n",
       "      <td>-4.975913e-01</td>\n",
       "    </tr>\n",
       "    <tr>\n",
       "      <th>75%</th>\n",
       "      <td>1.141926e+00</td>\n",
       "      <td>0.0</td>\n",
       "      <td>7.893767e-01</td>\n",
       "      <td>2.509516e-02</td>\n",
       "      <td>1.139135e+00</td>\n",
       "    </tr>\n",
       "    <tr>\n",
       "      <th>max</th>\n",
       "      <td>2.174795e+00</td>\n",
       "      <td>0.0</td>\n",
       "      <td>1.570159e+00</td>\n",
       "      <td>1.419271e+00</td>\n",
       "      <td>2.306722e+00</td>\n",
       "    </tr>\n",
       "  </tbody>\n",
       "</table>\n",
       "</div>"
      ],
      "text/plain": [
       "       rms_amplitude  peak_frequency  spectral_entropy  zero_crossing_rate  \\\n",
       "count   2.500000e+03          2500.0      2.500000e+03        2.500000e+03   \n",
       "mean   -1.215028e-15             0.0      5.826450e-17        5.684342e-18   \n",
       "std     1.000200e+00             0.0      1.000200e+00        1.000200e+00   \n",
       "min    -1.705760e+00             0.0     -2.462106e+00       -1.369080e+00   \n",
       "25%    -7.857923e-01             0.0     -1.118062e+00       -1.369080e+00   \n",
       "50%    -4.701223e-01             0.0      4.914053e-01        2.509516e-02   \n",
       "75%     1.141926e+00             0.0      7.893767e-01        2.509516e-02   \n",
       "max     2.174795e+00             0.0      1.570159e+00        1.419271e+00   \n",
       "\n",
       "       mean_frequency  \n",
       "count    2.500000e+03  \n",
       "mean     2.663114e-15  \n",
       "std      1.000200e+00  \n",
       "min     -1.646490e+00  \n",
       "25%     -7.791348e-01  \n",
       "50%     -4.975913e-01  \n",
       "75%      1.139135e+00  \n",
       "max      2.306722e+00  "
      ]
     },
     "execution_count": 27,
     "metadata": {},
     "output_type": "execute_result"
    }
   ],
   "source": [
    "#performing scaling so values lie in the same range\n",
    "from sklearn.preprocessing import StandardScaler\n",
    "\n",
    "# Define your numerical features\n",
    "numeric_features = ['rms_amplitude', 'peak_frequency', 'spectral_entropy', 'zero_crossing_rate', 'mean_frequency']\n",
    "\n",
    "# Initialize the scaler\n",
    "scaler = StandardScaler()\n",
    "\n",
    "# Fit the scaler to your numeric features and transform them\n",
    "df[numeric_features] = scaler.fit_transform(df[numeric_features])\n",
    "#check scaled values\n",
    "df[numeric_features].describe()\n"
   ]
  },
  {
   "cell_type": "code",
   "execution_count": 28,
   "id": "42aa2d75",
   "metadata": {},
   "outputs": [],
   "source": [
    "# Inputs: sensor features\n",
    "X = df[numeric_features]\n",
    "\n",
    "# Outputs: 3 targets\n",
    "Y = df[['knee_condition_encoded', 'severity_level_encoded', 'treatment_advised_encoded']]\n"
   ]
  },
  {
   "cell_type": "code",
   "execution_count": 29,
   "id": "7fb6528d",
   "metadata": {},
   "outputs": [],
   "source": [
    "#split data\n",
    "from sklearn.model_selection import train_test_split\n",
    "\n",
    "X_train, X_test, Y_train, Y_test = train_test_split(X, Y, test_size=0.2, random_state=42)\n",
    "\n"
   ]
  },
  {
   "cell_type": "code",
   "execution_count": 30,
   "id": "91290089",
   "metadata": {},
   "outputs": [
    {
     "name": "stdout",
     "output_type": "stream",
     "text": [
      "Accuracy for knee_condition_encoded: 0.87\n",
      "Accuracy for severity_level_encoded: 0.51\n",
      "Accuracy for treatment_advised_encoded: 0.74\n"
     ]
    }
   ],
   "source": [
    "from sklearn.neighbors import KNeighborsClassifier\n",
    "from sklearn.multioutput import MultiOutputClassifier\n",
    "from sklearn.metrics import accuracy_score\n",
    "\n",
    "# Wrap KNN for multi-output\n",
    "knn = KNeighborsClassifier(n_neighbors=5)\n",
    "multi_knn = MultiOutputClassifier(knn)\n",
    "\n",
    "# Train\n",
    "multi_knn.fit(X_train, Y_train)\n",
    "\n",
    "# Predict\n",
    "Y_pred = multi_knn.predict(X_test)\n",
    "\n",
    "# Evaluate accuracy per output\n",
    "for i, col in enumerate(Y.columns):\n",
    "    acc = accuracy_score(Y_test.iloc[:, i], Y_pred[:, i])\n",
    "    print(f\"Accuracy for {col}: {acc:.2f}\")"
   ]
  },
  {
   "cell_type": "code",
   "execution_count": 31,
   "id": "d16c5716",
   "metadata": {},
   "outputs": [
    {
     "name": "stdout",
     "output_type": "stream",
     "text": [
      "Accuracy for knee_condition_encoded: 0.88\n",
      "Accuracy for severity_level_encoded: 0.55\n",
      "Accuracy for treatment_advised_encoded: 0.77\n"
     ]
    }
   ],
   "source": [
    "from sklearn.svm import SVC\n",
    "from sklearn.multioutput import MultiOutputClassifier\n",
    "\n",
    "# Wrap SVM\n",
    "svm = SVC(kernel='linear', random_state=42)\n",
    "multi_svm = MultiOutputClassifier(svm)\n",
    "\n",
    "# Train\n",
    "multi_svm.fit(X_train, Y_train)\n",
    "\n",
    "# Predict\n",
    "Y_pred_svm = multi_svm.predict(X_test)\n",
    "\n",
    "# Evaluate accuracy per output\n",
    "for i, col in enumerate(Y.columns):\n",
    "    acc = accuracy_score(Y_test.iloc[:, i], Y_pred_svm[:, i])\n",
    "    print(f\"Accuracy for {col}: {acc:.2f}\")\n"
   ]
  },
  {
   "cell_type": "code",
   "execution_count": 33,
   "id": "6e2f7433",
   "metadata": {},
   "outputs": [
    {
     "name": "stdout",
     "output_type": "stream",
     "text": [
      "All models and preprocessors saved successfully!\n"
     ]
    }
   ],
   "source": [
    "import joblib\n",
    "from sklearn.svm import SVC\n",
    "from sklearn.multioutput import MultiOutputClassifier\n",
    "\n",
    "# Make sure you have your training data ready\n",
    "# X_train and Y_train should be defined from your train_test_split\n",
    "\n",
    "# Create the SVM model\n",
    "svm = SVC(kernel='linear', random_state=42)\n",
    "multisvm = MultiOutputClassifier(svm)\n",
    "\n",
    "# Train the model\n",
    "multisvm.fit(X_train, Y_train)\n",
    "\n",
    "# Save all models and preprocessors\n",
    "joblib.dump(multisvm, \"multi_svm_model.pkl\")\n",
    "joblib.dump(scaler, \"scaler.pkl\")\n",
    "joblib.dump(le_knee_condition, \"le_knee_condition.pkl\")\n",
    "joblib.dump(le_severity_level, \"le_severity_level.pkl\") \n",
    "joblib.dump(le_treatment_advised, \"le_treatment_advised.pkl\")\n",
    "\n",
    "print(\"All models and preprocessors saved successfully!\")\n",
    "\n"
   ]
  },
  {
   "cell_type": "code",
   "execution_count": 34,
   "id": "f370eb31",
   "metadata": {},
   "outputs": [
    {
     "name": "stdout",
     "output_type": "stream",
     "text": [
      "SVM Accuracy: 0.876\n",
      "              precision    recall  f1-score   support\n",
      "\n",
      "           0       1.00      1.00      1.00       183\n",
      "           1       0.83      0.78      0.80       161\n",
      "           2       0.78      0.83      0.81       156\n",
      "\n",
      "    accuracy                           0.88       500\n",
      "   macro avg       0.87      0.87      0.87       500\n",
      "weighted avg       0.88      0.88      0.88       500\n",
      "\n"
     ]
    }
   ],
   "source": [
    "from sklearn.metrics import classification_report\n",
    "y = Y[\"knee_condition_encoded\"]  # or severity_level_encoded / treatment_advised_encoded\n",
    "\n",
    "X_train, X_test, y_train, y_test = train_test_split(X, y, test_size=0.2, random_state=42)\n",
    "\n",
    "svm = SVC(kernel='linear', random_state=42)\n",
    "svm.fit(X_train, y_train)\n",
    "\n",
    "y_pred_svm = svm.predict(X_test)\n",
    "\n",
    "print(\"SVM Accuracy:\", accuracy_score(y_test, y_pred_svm))\n",
    "print(classification_report(y_test, y_pred_svm))\n"
   ]
  },
  {
   "cell_type": "code",
   "execution_count": 35,
   "id": "46e30845",
   "metadata": {},
   "outputs": [
    {
     "name": "stdout",
     "output_type": "stream",
     "text": [
      "Random Forest - Accuracy for knee_condition_encoded: 0.87\n",
      "Random Forest - Accuracy for severity_level_encoded: 0.53\n",
      "Random Forest - Accuracy for treatment_advised_encoded: 0.77\n",
      "\n",
      "Feature importances for predicting 'knee_condition_encoded':\n",
      "rms_amplitude: 0.353\n",
      "mean_frequency: 0.321\n",
      "spectral_entropy: 0.314\n",
      "zero_crossing_rate: 0.013\n",
      "peak_frequency: 0.000\n"
     ]
    },
    {
     "data": {
      "image/png": "[encoded data removed]",
      "text/plain": [
       "<Figure size 800x400 with 1 Axes>"
      ]
     },
     "metadata": {},
     "output_type": "display_data"
    },
    {
     "name": "stdout",
     "output_type": "stream",
     "text": [
      "\n",
      "Feature importances for predicting 'severity_level_encoded':\n",
      "rms_amplitude: 0.336\n",
      "spectral_entropy: 0.319\n",
      "mean_frequency: 0.309\n",
      "zero_crossing_rate: 0.036\n",
      "peak_frequency: 0.000\n"
     ]
    },
    {
     "data": {
      "image/png": "[encoded data removed]",
      "text/plain": [
       "<Figure size 800x400 with 1 Axes>"
      ]
     },
     "metadata": {},
     "output_type": "display_data"
    },
    {
     "name": "stdout",
     "output_type": "stream",
     "text": [
      "\n",
      "Feature importances for predicting 'treatment_advised_encoded':\n",
      "rms_amplitude: 0.367\n",
      "spectral_entropy: 0.322\n",
      "mean_frequency: 0.286\n",
      "zero_crossing_rate: 0.025\n",
      "peak_frequency: 0.000\n"
     ]
    },
    {
     "data": {
      "image/png": "[encoded data removed]",
      "text/plain": [
       "<Figure size 800x400 with 1 Axes>"
      ]
     },
     "metadata": {},
     "output_type": "display_data"
    }
   ],
   "source": [
    "#identifying future importance using random forest \n",
    "#Import libraries\n",
    "from sklearn.ensemble import RandomForestClassifier\n",
    "from sklearn.multioutput import MultiOutputClassifier\n",
    "from sklearn.metrics import accuracy_score\n",
    "import matplotlib.pyplot as plt\n",
    "import numpy as np\n",
    "\n",
    "# Define inputs and outputs\n",
    "X = df[numeric_features]\n",
    "Y = df[['knee_condition_encoded', 'severity_level_encoded', 'treatment_advised_encoded']]\n",
    "\n",
    "# Train/test split\n",
    "from sklearn.model_selection import train_test_split\n",
    "\n",
    "X_train, X_test, Y_train, Y_test = train_test_split(X, Y, test_size=0.2, random_state=42)\n",
    "\n",
    "# Build Random Forest model\n",
    "rf = RandomForestClassifier(n_estimators=100, random_state=42)\n",
    "multi_rf = MultiOutputClassifier(rf)\n",
    "\n",
    "# Train\n",
    "multi_rf.fit(X_train, Y_train)\n",
    "\n",
    "# Predict\n",
    "Y_pred_rf = multi_rf.predict(X_test)\n",
    "\n",
    "# Evaluate accuracy per output\n",
    "for i, col in enumerate(Y.columns):\n",
    "    acc = accuracy_score(Y_test.iloc[:, i], Y_pred_rf[:, i])\n",
    "    print(f\"Random Forest - Accuracy for {col}: {acc:.2f}\")\n",
    "\n",
    "# ---- Feature Importance ----\n",
    "# For each output, print feature importance\n",
    "for i, estimator in enumerate(multi_rf.estimators_):\n",
    "    importances = estimator.feature_importances_\n",
    "    indices = np.argsort(importances)[::-1]\n",
    "    feature_names = X.columns\n",
    "\n",
    "    print(f\"\\nFeature importances for predicting '{Y.columns[i]}':\")\n",
    "    for f in range(len(feature_names)):\n",
    "        print(f\"{feature_names[indices[f]]}: {importances[indices[f]]:.3f}\")\n",
    "\n",
    "    # Optional: Plot feature importances\n",
    "    plt.figure(figsize=(8,4))\n",
    "    plt.title(f\"Feature Importances for '{Y.columns[i]}'\")\n",
    "    plt.bar(range(len(feature_names)), importances[indices], align=\"center\")\n",
    "    plt.xticks(range(len(feature_names)), feature_names[indices], rotation=45)\n",
    "    plt.tight_layout()\n",
    "    plt.show()\n"
   ]
  },
  {
   "cell_type": "code",
   "execution_count": 36,
   "id": "ed512d10",
   "metadata": {},
   "outputs": [
    {
     "name": "stdout",
     "output_type": "stream",
     "text": [
      "Best KNN params per output:\n",
      "knee_condition_encoded: {'n_neighbors': 11}\n",
      "severity_level_encoded: {'n_neighbors': 11}\n",
      "treatment_advised_encoded: {'n_neighbors': 11}\n",
      "\n",
      "Best SVM params per output:\n",
      "knee_condition_encoded: {'C': 10, 'kernel': 'linear'}\n",
      "severity_level_encoded: {'C': 10, 'kernel': 'rbf'}\n",
      "treatment_advised_encoded: {'C': 10, 'kernel': 'linear'}\n",
      "\n",
      "Best RandomForest params per output:\n",
      "knee_condition_encoded: {'max_depth': 10, 'n_estimators': 200}\n",
      "severity_level_encoded: {'max_depth': 10, 'n_estimators': 200}\n",
      "treatment_advised_encoded: {'max_depth': 10, 'n_estimators': 100}\n",
      "\n",
      "Cross-validation scores (5-fold):\n",
      "KNN - knee_condition_encoded: Mean acc = 0.86, Std = 0.01\n",
      "KNN - severity_level_encoded: Mean acc = 0.55, Std = 0.03\n",
      "KNN - treatment_advised_encoded: Mean acc = 0.72, Std = 0.02\n",
      "SVM - knee_condition_encoded: Mean acc = 0.87, Std = 0.01\n",
      "SVM - severity_level_encoded: Mean acc = 0.55, Std = 0.02\n",
      "SVM - treatment_advised_encoded: Mean acc = 0.75, Std = 0.02\n",
      "RandomForest - knee_condition_encoded: Mean acc = 0.86, Std = 0.02\n",
      "RandomForest - severity_level_encoded: Mean acc = 0.54, Std = 0.01\n",
      "RandomForest - treatment_advised_encoded: Mean acc = 0.74, Std = 0.02\n"
     ]
    }
   ],
   "source": [
    "#tuning the knn model\n",
    "#We tuned KNN, SVM, and RandomForest models via 5-fold cross-validation using GridSearchCV. The mean accuracy and standard deviation are reported to ensure robustness of results\n",
    "from sklearn.model_selection import GridSearchCV, cross_val_score\n",
    "from sklearn.neighbors import KNeighborsClassifier\n",
    "from sklearn.svm import SVC\n",
    "from sklearn.ensemble import RandomForestClassifier\n",
    "from sklearn.multioutput import MultiOutputClassifier\n",
    "\n",
    "# -------- 1️ Hyperparameter tuning for KNN --------\n",
    "\n",
    "knn = KNeighborsClassifier()\n",
    "\n",
    "knn_params = {\n",
    "    'n_neighbors': [3, 5, 7, 9, 11]\n",
    "}\n",
    "\n",
    "knn_grid = GridSearchCV(knn, knn_params, cv=5, scoring='accuracy')\n",
    "multi_knn_grid = MultiOutputClassifier(knn_grid)\n",
    "\n",
    "# Fit multi-output KNN grid\n",
    "multi_knn_grid.fit(X_train, Y_train)\n",
    "\n",
    "# Best params for each output:\n",
    "print(\"Best KNN params per output:\")\n",
    "for i, estimator in enumerate(multi_knn_grid.estimators_):\n",
    "    print(f\"{Y.columns[i]}: {estimator.best_params_}\")\n",
    "\n",
    "# -------- 2️ Hyperparameter tuning for SVM --------\n",
    "\n",
    "svm = SVC()\n",
    "\n",
    "svm_params = {\n",
    "    'C': [0.1, 1, 10],\n",
    "    'kernel': ['linear', 'rbf']\n",
    "}\n",
    "\n",
    "svm_grid = GridSearchCV(svm, svm_params, cv=5, scoring='accuracy')\n",
    "multi_svm_grid = MultiOutputClassifier(svm_grid)\n",
    "\n",
    "# Fit multi-output SVM grid\n",
    "multi_svm_grid.fit(X_train, Y_train)\n",
    "\n",
    "# Best params for each output:\n",
    "print(\"\\nBest SVM params per output:\")\n",
    "for i, estimator in enumerate(multi_svm_grid.estimators_):\n",
    "    print(f\"{Y.columns[i]}: {estimator.best_params_}\")\n",
    "\n",
    "# -------- 3️ Optional: Hyperparameter tuning for RandomForest --------\n",
    "\n",
    "rf = RandomForestClassifier(random_state=42)\n",
    "\n",
    "rf_params = {\n",
    "    'n_estimators': [100, 200],\n",
    "    'max_depth': [None, 10, 20]\n",
    "}\n",
    "\n",
    "rf_grid = GridSearchCV(rf, rf_params, cv=5, scoring='accuracy')\n",
    "multi_rf_grid = MultiOutputClassifier(rf_grid)\n",
    "\n",
    "# Fit multi-output RF grid\n",
    "multi_rf_grid.fit(X_train, Y_train)\n",
    "\n",
    "# Best params for each output:\n",
    "print(\"\\nBest RandomForest params per output:\")\n",
    "for i, estimator in enumerate(multi_rf_grid.estimators_):\n",
    "    print(f\"{Y.columns[i]}: {estimator.best_params_}\")\n",
    "\n",
    "# -------- 4️ Cross-validation scores --------\n",
    "\n",
    "# Example with KNN tuned:\n",
    "\n",
    "print(\"\\nCross-validation scores (5-fold):\")\n",
    "\n",
    "for i, col in enumerate(Y.columns):\n",
    "    knn_cv_score = cross_val_score(KNeighborsClassifier(n_neighbors=multi_knn_grid.estimators_[i].best_params_['n_neighbors']),\n",
    "                                   X, Y.iloc[:, i], cv=5, scoring='accuracy')\n",
    "    print(f\"KNN - {col}: Mean acc = {knn_cv_score.mean():.2f}, Std = {knn_cv_score.std():.2f}\")\n",
    "\n",
    "# You can do similar for SVM and RF:\n",
    "# Cross-validation for SVM:\n",
    "for i, col in enumerate(Y.columns):\n",
    "    best_svm_params = multi_svm_grid.estimators_[i].best_params_\n",
    "    svm_model = SVC(C=best_svm_params['C'], kernel=best_svm_params['kernel'])\n",
    "    svm_cv_score = cross_val_score(svm_model, X, Y.iloc[:, i], cv=5, scoring='accuracy')\n",
    "    print(f\"SVM - {col}: Mean acc = {svm_cv_score.mean():.2f}, Std = {svm_cv_score.std():.2f}\")\n",
    "\n",
    "# Cross-validation for RandomForest:\n",
    "for i, col in enumerate(Y.columns):\n",
    "    best_rf_params = multi_rf_grid.estimators_[i].best_params_\n",
    "    rf_model = RandomForestClassifier(n_estimators=best_rf_params['n_estimators'],\n",
    "                                      max_depth=best_rf_params['max_depth'],\n",
    "                                      random_state=42)\n",
    "    rf_cv_score = cross_val_score(rf_model, X, Y.iloc[:, i], cv=5, scoring='accuracy')\n",
    "    print(f\"RandomForest - {col}: Mean acc = {rf_cv_score.mean():.2f}, Std = {rf_cv_score.std():.2f}\")\n"
   ]
  },
  {
   "cell_type": "code",
   "execution_count": 37,
   "id": "a2f38cbe",
   "metadata": {},
   "outputs": [
    {
     "data": {
      "image/png": "[encoded data removed]",
      "text/plain": [
       "<Figure size 640x480 with 2 Axes>"
      ]
     },
     "metadata": {},
     "output_type": "display_data"
    },
    {
     "data": {
      "image/png": "[encoded data removed]",
      "text/plain": [
       "<Figure size 640x480 with 2 Axes>"
      ]
     },
     "metadata": {},
     "output_type": "display_data"
    },
    {
     "data": {
      "image/png": "[encoded data removed]",
      "text/plain": [
       "<Figure size 640x480 with 2 Axes>"
      ]
     },
     "metadata": {},
     "output_type": "display_data"
    }
   ],
   "source": [
    "from sklearn.metrics import confusion_matrix, ConfusionMatrixDisplay\n",
    "\n",
    "# For each output, plot Confusion Matrix for SVM (as an example)\n",
    "# can repeat for KNN and RF if you want.\n",
    "\n",
    "# Predict with tuned SVM\n",
    "Y_pred_svm = multi_svm_grid.predict(X_test)\n",
    "\n",
    "# Plot Confusion Matrix for each output:\n",
    "for i, col in enumerate(Y.columns):\n",
    "    cm = confusion_matrix(Y_test.iloc[:, i], Y_pred_svm[:, i])\n",
    "    disp = ConfusionMatrixDisplay(confusion_matrix=cm)\n",
    "    disp.plot(cmap='Blues')\n",
    "    plt.title(f'Confusion Matrix for {col} (SVM)')\n",
    "    plt.show()\n"
   ]
  },
  {
   "cell_type": "code",
   "execution_count": 38,
   "id": "f1a52cb5",
   "metadata": {},
   "outputs": [
    {
     "name": "stdout",
     "output_type": "stream",
     "text": [
      "----- KNN Evaluation -----\n",
      "Accuracy for knee_condition_encoded: 0.870\n",
      "knee_condition_encoded Classification Report:\n",
      "              precision    recall  f1-score   support\n",
      "\n",
      "           0       1.00      1.00      1.00       183\n",
      "           1       0.81      0.78      0.79       161\n",
      "           2       0.78      0.81      0.79       156\n",
      "\n",
      "    accuracy                           0.87       500\n",
      "   macro avg       0.86      0.86      0.86       500\n",
      "weighted avg       0.87      0.87      0.87       500\n",
      "\n",
      "Accuracy for severity_level_encoded: 0.562\n",
      "severity_level_encoded Classification Report:\n",
      "              precision    recall  f1-score   support\n",
      "\n",
      "           0       0.20      0.23      0.22        47\n",
      "           1       0.48      0.41      0.45       133\n",
      "           2       0.75      0.90      0.82       161\n",
      "           3       0.51      0.44      0.47       159\n",
      "\n",
      "    accuracy                           0.56       500\n",
      "   macro avg       0.49      0.50      0.49       500\n",
      "weighted avg       0.55      0.56      0.55       500\n",
      "\n",
      "Accuracy for treatment_advised_encoded: 0.774\n",
      "treatment_advised_encoded Classification Report:\n",
      "              precision    recall  f1-score   support\n",
      "\n",
      "           0       0.75      0.91      0.82       161\n",
      "           1       0.53      0.37      0.43        76\n",
      "           2       0.84      0.81      0.83       263\n",
      "\n",
      "    accuracy                           0.77       500\n",
      "   macro avg       0.71      0.70      0.69       500\n",
      "weighted avg       0.77      0.77      0.77       500\n",
      "\n"
     ]
    }
   ],
   "source": [
    "#KNN with n_neighbors=1\n",
    "from sklearn.neighbors import KNeighborsClassifier\n",
    "from sklearn.multioutput import MultiOutputClassifier\n",
    "from sklearn.metrics import accuracy_score, classification_report\n",
    "\n",
    "# Use best hyperparameters\n",
    "knn = KNeighborsClassifier(n_neighbors=11)\n",
    "multi_knn = MultiOutputClassifier(knn)\n",
    "\n",
    "# Train\n",
    "multi_knn.fit(X_train, Y_train)\n",
    "\n",
    "# Predict\n",
    "Y_pred_knn = multi_knn.predict(X_test)\n",
    "\n",
    "# Evaluate\n",
    "print(\"----- KNN Evaluation -----\")\n",
    "for i, col in enumerate(Y.columns):\n",
    "    acc = accuracy_score(Y_test.iloc[:, i], Y_pred_knn[:, i])\n",
    "    print(f\"Accuracy for {col}: {acc:.3f}\")\n",
    "    print(f\"{col} Classification Report:\")\n",
    "    print(classification_report(Y_test.iloc[:, i], Y_pred_knn[:, i]))\n"
   ]
  },
  {
   "cell_type": "code",
   "execution_count": 39,
   "id": "99918769",
   "metadata": {},
   "outputs": [
    {
     "name": "stdout",
     "output_type": "stream",
     "text": [
      "----- Random Forest Evaluation -----\n",
      "Accuracy for knee_condition_encoded: 0.870\n",
      "knee_condition_encoded Classification Report:\n",
      "              precision    recall  f1-score   support\n",
      "\n",
      "           0       1.00      1.00      1.00       183\n",
      "           1       0.80      0.80      0.80       161\n",
      "           2       0.79      0.79      0.79       156\n",
      "\n",
      "    accuracy                           0.87       500\n",
      "   macro avg       0.86      0.86      0.86       500\n",
      "weighted avg       0.87      0.87      0.87       500\n",
      "\n",
      "Accuracy for severity_level_encoded: 0.526\n",
      "severity_level_encoded Classification Report:\n",
      "              precision    recall  f1-score   support\n",
      "\n",
      "           0       0.30      0.32      0.31        47\n",
      "           1       0.38      0.38      0.38       133\n",
      "           2       0.74      0.87      0.80       161\n",
      "           3       0.45      0.36      0.40       159\n",
      "\n",
      "    accuracy                           0.53       500\n",
      "   macro avg       0.47      0.48      0.47       500\n",
      "weighted avg       0.51      0.53      0.52       500\n",
      "\n",
      "Accuracy for treatment_advised_encoded: 0.772\n",
      "treatment_advised_encoded Classification Report:\n",
      "              precision    recall  f1-score   support\n",
      "\n",
      "           0       0.77      0.87      0.82       161\n",
      "           1       0.47      0.32      0.38        76\n",
      "           2       0.83      0.84      0.84       263\n",
      "\n",
      "    accuracy                           0.77       500\n",
      "   macro avg       0.69      0.68      0.68       500\n",
      "weighted avg       0.76      0.77      0.76       500\n",
      "\n"
     ]
    }
   ],
   "source": [
    "#Since Random Forest needs separate models per output (due to different best params)\n",
    "from sklearn.ensemble import RandomForestClassifier\n",
    "\n",
    "# Best params per output\n",
    "rf_params = {\n",
    "    'knee_condition_encoded': {'n_estimators': 100, 'max_depth': 10},\n",
    "    'severity_level_encoded': {'n_estimators': 200, 'max_depth': 20},\n",
    "    'treatment_advised_encoded': {'n_estimators': 200, 'max_depth': 10}\n",
    "}\n",
    "\n",
    "print(\"----- Random Forest Evaluation -----\")\n",
    "for col in Y.columns:\n",
    "    rf = RandomForestClassifier(\n",
    "        n_estimators=rf_params[col]['n_estimators'],\n",
    "        max_depth=rf_params[col]['max_depth'],\n",
    "        random_state=42\n",
    "    )\n",
    "    \n",
    "    rf.fit(X_train, Y_train[col])\n",
    "    y_pred = rf.predict(X_test)\n",
    "    \n",
    "    acc = accuracy_score(Y_test[col], y_pred)\n",
    "    print(f\"Accuracy for {col}: {acc:.3f}\")\n",
    "    print(f\"{col} Classification Report:\")\n",
    "    print(classification_report(Y_test[col], y_pred))\n"
   ]
  },
  {
   "cell_type": "code",
   "execution_count": 40,
   "id": "b4c0cbb7",
   "metadata": {},
   "outputs": [
    {
     "name": "stdout",
     "output_type": "stream",
     "text": [
      "----- Final SVM Evaluation -----\n",
      "Accuracy for knee_condition_encoded: 0.882\n",
      "knee_condition_encoded Classification Report:\n",
      "              precision    recall  f1-score   support\n",
      "\n",
      "           0       1.00      1.00      1.00       183\n",
      "           1       0.83      0.80      0.81       161\n",
      "           2       0.80      0.83      0.82       156\n",
      "\n",
      "    accuracy                           0.88       500\n",
      "   macro avg       0.88      0.88      0.88       500\n",
      "weighted avg       0.88      0.88      0.88       500\n",
      "\n",
      "Accuracy for severity_level_encoded: 0.558\n",
      "severity_level_encoded Classification Report:\n",
      "              precision    recall  f1-score   support\n",
      "\n",
      "           0       0.24      0.21      0.22        47\n",
      "           1       0.47      0.56      0.51       133\n",
      "           2       0.72      0.95      0.82       161\n",
      "           3       0.47      0.26      0.34       159\n",
      "\n",
      "    accuracy                           0.56       500\n",
      "   macro avg       0.48      0.50      0.47       500\n",
      "weighted avg       0.53      0.56      0.53       500\n",
      "\n",
      "Accuracy for treatment_advised_encoded: 0.766\n",
      "treatment_advised_encoded Classification Report:\n",
      "              precision    recall  f1-score   support\n",
      "\n",
      "           0       0.77      0.91      0.83       161\n",
      "           1       0.42      0.18      0.26        76\n",
      "           2       0.81      0.84      0.83       263\n",
      "\n",
      "    accuracy                           0.77       500\n",
      "   macro avg       0.67      0.65      0.64       500\n",
      "weighted avg       0.74      0.77      0.74       500\n",
      "\n"
     ]
    }
   ],
   "source": [
    "from sklearn.svm import SVC\n",
    "from sklearn.metrics import accuracy_score, classification_report\n",
    "\n",
    "# Best parameters per target\n",
    "svm_params = {\n",
    "    'knee_condition_encoded': {'kernel': 'linear', 'C': 10},\n",
    "    'severity_level_encoded': {'kernel': 'rbf', 'C': 10},\n",
    "    'treatment_advised_encoded': {'kernel': 'linear', 'C': 10}\n",
    "}\n",
    "\n",
    "print(\"----- Final SVM Evaluation -----\")\n",
    "for col in Y.columns:\n",
    "    # Initialize with best params\n",
    "    svm = SVC(\n",
    "        kernel=svm_params[col]['kernel'],\n",
    "        C=svm_params[col]['C'],\n",
    "        random_state=42\n",
    "    )\n",
    "    \n",
    "    # Fit & predict\n",
    "    svm.fit(X_train, Y_train[col])\n",
    "    y_pred = svm.predict(X_test)\n",
    "    \n",
    "    # Evaluate\n",
    "    acc = accuracy_score(Y_test[col], y_pred)\n",
    "    print(f\"Accuracy for {col}: {acc:.3f}\")\n",
    "    print(f\"{col} Classification Report:\")\n",
    "    print(classification_report(Y_test[col], y_pred))\n"
   ]
  },
  {
   "cell_type": "code",
   "execution_count": 41,
   "id": "d2093c24",
   "metadata": {},
   "outputs": [],
   "source": [
    "\n",
    "def get_valid_input(prompt, min_val, max_val, decimals=4):\n",
    "    while True:\n",
    "        try:\n",
    "            value = round(float(input(f\"{prompt} ({min_val} to {max_val}): \")), decimals)\n",
    "            if min_val <= value <= max_val:\n",
    "                return value\n",
    "            else:\n",
    "                print(f\" Value out of range. Please enter between {min_val} and {max_val}.\")\n",
    "        except ValueError:\n",
    "            print(\" Invalid input. Please enter a numeric value.\")\n",
    "\n",
    "def predict_knee_condition(model, scaler, le_knee, le_severity, le_treatment, default_peak_frequency):\n",
    "    print(\"Enter the following features (within valid ranges):\")\n",
    "\n",
    "    # Use helper function to get each input\n",
    "    rms_amplitude = get_valid_input(\"RMS Amplitude\", 0.5, 1.5)\n",
    "    spectral_entropy = get_valid_input(\"Spectral Entropy\", -4000, -1500)\n",
    "    zero_crossing_rate = get_valid_input(\"Zero Crossing Rate\", 0.0, 0.01)\n",
    "    mean_frequency = get_valid_input(\"Mean Frequency\", 30.0, 50.0)\n",
    "\n",
    "    # Use the cleaned median value for peak_frequency\n",
    "    peak_frequency = default_peak_frequency\n",
    "\n",
    "    # Scale and predict\n",
    "    \n",
    "    feature_names = ['rms_amplitude', 'peak_frequency', 'spectral_entropy', 'zero_crossing_rate', 'mean_frequency']\n",
    "\n",
    "    user_input = pd.DataFrame([[rms_amplitude, peak_frequency, spectral_entropy,\n",
    "                            zero_crossing_rate, mean_frequency]],columns=feature_names)\n",
    "    user_input_scaled = scaler.transform(user_input)\n",
    "\n",
    "    prediction = model.predict(user_input_scaled)\n",
    "    knee_condition = le_knee.inverse_transform([prediction[0][0]])[0]\n",
    "    severity_level = le_severity.inverse_transform([prediction[0][1]])[0]\n",
    "    treatment_advised = le_treatment.inverse_transform([prediction[0][2]])[0]\n",
    "\n",
    "    print(\"\\n Input\")\n",
    "    print(f\"RMS Amplitude: {rms_amplitude}\")\n",
    "    print(f\"Spectral Entropy: {spectral_entropy}\")\n",
    "    print(f\"Zero Crossing Rate: {zero_crossing_rate}\")\n",
    "    print(f\"Mean Frequency: {mean_frequency}\")\n",
    "    print(f\"Peak Frequency (default): {peak_frequency}\")\n",
    "\n",
    "    print(\"\\n Prediction:\")\n",
    "    print(f\"- Knee Condition: {knee_condition}\")\n",
    "    print(f\"- Severity Level: {severity_level}\")\n",
    "    print(f\"- Treatment Advised: {treatment_advised}\")\n"
   ]
  },
  {
   "cell_type": "code",
   "execution_count": 43,
   "id": "9ce5ebeb",
   "metadata": {},
   "outputs": [
    {
     "name": "stdout",
     "output_type": "stream",
     "text": [
      "Enter the following features (within valid ranges):\n",
      "\n",
      " Input\n",
      "RMS Amplitude: 0.75\n",
      "Spectral Entropy: -2000.0\n",
      "Zero Crossing Rate: 0.0\n",
      "Mean Frequency: 35.0\n",
      "Peak Frequency (default): 20.0\n",
      "\n",
      " Prediction:\n",
      "- Knee Condition: normal\n",
      "- Severity Level: None\n",
      "- Treatment Advised: No Treatment\n"
     ]
    },
    {
     "name": "stderr",
     "output_type": "stream",
     "text": [
      "c:\\Users\\ankit\\anaconda3\\Lib\\site-packages\\sklearn\\base.py:464: UserWarning: X does not have valid feature names, but SVC was fitted with feature names\n",
      "  warnings.warn(\n",
      "c:\\Users\\ankit\\anaconda3\\Lib\\site-packages\\sklearn\\base.py:464: UserWarning: X does not have valid feature names, but SVC was fitted with feature names\n",
      "  warnings.warn(\n",
      "c:\\Users\\ankit\\anaconda3\\Lib\\site-packages\\sklearn\\base.py:464: UserWarning: X does not have valid feature names, but SVC was fitted with feature names\n",
      "  warnings.warn(\n"
     ]
    }
   ],
   "source": [
    "# Call function:\n",
    "predict_knee_condition(\n",
    "    model=multi_svm,\n",
    "    scaler=scaler,\n",
    "    le_knee=le_knee_condition,\n",
    "    le_severity=le_severity_level,\n",
    "    le_treatment=le_treatment_advised,\n",
    "    default_peak_frequency=median_peak\n",
    ") \n"
   ]
  }
 ],
 "metadata": {
  "kernelspec": {
   "display_name": "base",
   "language": "python",
   "name": "python3"
  },
  "language_info": {
   "codemirror_mode": {
    "name": "ipython",
    "version": 3
   },
   "file_extension": ".py",
   "mimetype": "text/x-python",
   "name": "python",
   "nbconvert_exporter": "python",
   "pygments_lexer": "ipython3",
   "version": "3.11.5"
  }
 },
 "nbformat": 4,
 "nbformat_minor": 5
}
